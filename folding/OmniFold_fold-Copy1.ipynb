{
 "cells": [
  {
   "cell_type": "code",
   "execution_count": 1,
   "metadata": {},
   "outputs": [
    {
     "name": "stderr",
     "output_type": "stream",
     "text": [
      "2024-07-11 17:55:48.092195: I tensorflow/core/platform/cpu_feature_guard.cc:193] This TensorFlow binary is optimized with oneAPI Deep Neural Network Library (oneDNN) to use the following CPU instructions in performance-critical operations:  AVX2 FMA\n",
      "To enable them in other operations, rebuild TensorFlow with the appropriate compiler flags.\n"
     ]
    }
   ],
   "source": [
    "import sys\n",
    "import numpy as np\n",
    "import matplotlib.pyplot as plt\n",
    "import pandas as pd\n",
    "import energyflow as ef\n",
    "import energyflow.archs\n",
    "\n",
    "sys.path.append(\"../\")\n",
    "import omnifold\n",
    "import modplot\n",
    "# import ibu\n",
    "# import uproot\n"
   ]
  },
  {
   "cell_type": "code",
   "execution_count": 2,
   "metadata": {},
   "outputs": [],
   "source": [
    "plt.rcParams['figure.figsize'] = (4,4)\n",
    "plt.rcParams['figure.dpi'] = 120\n",
    "plt.rcParams['font.family'] = 'serif'"
   ]
  },
  {
   "cell_type": "code",
   "execution_count": 3,
   "metadata": {},
   "outputs": [],
   "source": [
    "names = ['pdg','pid_gen','pid_rec','cz_rec','cz_numu_rec','e_rec','e_numu_rec','cz_gen','e_gen','type','weight']"
   ]
  },
  {
   "cell_type": "code",
   "execution_count": 4,
   "metadata": {},
   "outputs": [],
   "source": [
    "input_data = pd.read_csv(\"/Users/wingyanma/Documents/GitHub/pisa/pisa_examples/resources/events/J23_all_events.csv\",\n",
    "                         names=names, header=0, index_col=[0])\n"
   ]
  },
  {
   "cell_type": "code",
   "execution_count": 5,
   "metadata": {},
   "outputs": [
    {
     "data": {
      "text/html": [
       "<div>\n",
       "<style scoped>\n",
       "    .dataframe tbody tr th:only-of-type {\n",
       "        vertical-align: middle;\n",
       "    }\n",
       "\n",
       "    .dataframe tbody tr th {\n",
       "        vertical-align: top;\n",
       "    }\n",
       "\n",
       "    .dataframe thead th {\n",
       "        text-align: right;\n",
       "    }\n",
       "</style>\n",
       "<table border=\"1\" class=\"dataframe\">\n",
       "  <thead>\n",
       "    <tr style=\"text-align: right;\">\n",
       "      <th></th>\n",
       "      <th>pdg</th>\n",
       "      <th>pid_gen</th>\n",
       "      <th>pid_rec</th>\n",
       "      <th>cz_rec</th>\n",
       "      <th>cz_numu_rec</th>\n",
       "      <th>e_rec</th>\n",
       "      <th>e_numu_rec</th>\n",
       "      <th>cz_gen</th>\n",
       "      <th>e_gen</th>\n",
       "      <th>type</th>\n",
       "      <th>weight</th>\n",
       "    </tr>\n",
       "  </thead>\n",
       "  <tbody>\n",
       "    <tr>\n",
       "      <th>0</th>\n",
       "      <td>14</td>\n",
       "      <td>numu</td>\n",
       "      <td>numu</td>\n",
       "      <td>0.494961</td>\n",
       "      <td>0.590685</td>\n",
       "      <td>0.853201</td>\n",
       "      <td>1.157009</td>\n",
       "      <td>0.855655</td>\n",
       "      <td>3.841143</td>\n",
       "      <td>1</td>\n",
       "      <td>1</td>\n",
       "    </tr>\n",
       "    <tr>\n",
       "      <th>1</th>\n",
       "      <td>14</td>\n",
       "      <td>numu</td>\n",
       "      <td>numu</td>\n",
       "      <td>0.274824</td>\n",
       "      <td>0.141403</td>\n",
       "      <td>4.300221</td>\n",
       "      <td>4.784906</td>\n",
       "      <td>0.113431</td>\n",
       "      <td>4.579452</td>\n",
       "      <td>1</td>\n",
       "      <td>1</td>\n",
       "    </tr>\n",
       "    <tr>\n",
       "      <th>2</th>\n",
       "      <td>14</td>\n",
       "      <td>numu</td>\n",
       "      <td>numu</td>\n",
       "      <td>0.242091</td>\n",
       "      <td>0.154218</td>\n",
       "      <td>2.578972</td>\n",
       "      <td>2.529813</td>\n",
       "      <td>0.404237</td>\n",
       "      <td>2.226287</td>\n",
       "      <td>1</td>\n",
       "      <td>1</td>\n",
       "    </tr>\n",
       "    <tr>\n",
       "      <th>3</th>\n",
       "      <td>14</td>\n",
       "      <td>numu</td>\n",
       "      <td>numu</td>\n",
       "      <td>-0.406088</td>\n",
       "      <td>-0.440340</td>\n",
       "      <td>2.419158</td>\n",
       "      <td>2.477218</td>\n",
       "      <td>-0.807746</td>\n",
       "      <td>2.606570</td>\n",
       "      <td>1</td>\n",
       "      <td>1</td>\n",
       "    </tr>\n",
       "    <tr>\n",
       "      <th>4</th>\n",
       "      <td>14</td>\n",
       "      <td>numu</td>\n",
       "      <td>numubar</td>\n",
       "      <td>0.597770</td>\n",
       "      <td>0.653224</td>\n",
       "      <td>3.485928</td>\n",
       "      <td>3.430741</td>\n",
       "      <td>0.187372</td>\n",
       "      <td>3.119193</td>\n",
       "      <td>1</td>\n",
       "      <td>1</td>\n",
       "    </tr>\n",
       "    <tr>\n",
       "      <th>...</th>\n",
       "      <td>...</td>\n",
       "      <td>...</td>\n",
       "      <td>...</td>\n",
       "      <td>...</td>\n",
       "      <td>...</td>\n",
       "      <td>...</td>\n",
       "      <td>...</td>\n",
       "      <td>...</td>\n",
       "      <td>...</td>\n",
       "      <td>...</td>\n",
       "      <td>...</td>\n",
       "    </tr>\n",
       "    <tr>\n",
       "      <th>94970</th>\n",
       "      <td>14</td>\n",
       "      <td>nc</td>\n",
       "      <td>nc</td>\n",
       "      <td>0.357342</td>\n",
       "      <td>0.369064</td>\n",
       "      <td>1.798511</td>\n",
       "      <td>2.144140</td>\n",
       "      <td>0.681854</td>\n",
       "      <td>4.422088</td>\n",
       "      <td>0</td>\n",
       "      <td>1</td>\n",
       "    </tr>\n",
       "    <tr>\n",
       "      <th>94971</th>\n",
       "      <td>-12</td>\n",
       "      <td>nc</td>\n",
       "      <td>nc</td>\n",
       "      <td>-0.290957</td>\n",
       "      <td>-0.492486</td>\n",
       "      <td>2.885988</td>\n",
       "      <td>3.517319</td>\n",
       "      <td>0.044246</td>\n",
       "      <td>5.999827</td>\n",
       "      <td>0</td>\n",
       "      <td>1</td>\n",
       "    </tr>\n",
       "    <tr>\n",
       "      <th>94972</th>\n",
       "      <td>12</td>\n",
       "      <td>nc</td>\n",
       "      <td>nc</td>\n",
       "      <td>-0.570296</td>\n",
       "      <td>-0.735233</td>\n",
       "      <td>1.708040</td>\n",
       "      <td>1.500363</td>\n",
       "      <td>-0.395516</td>\n",
       "      <td>2.657809</td>\n",
       "      <td>0</td>\n",
       "      <td>1</td>\n",
       "    </tr>\n",
       "    <tr>\n",
       "      <th>94973</th>\n",
       "      <td>14</td>\n",
       "      <td>nc</td>\n",
       "      <td>nc</td>\n",
       "      <td>-0.072436</td>\n",
       "      <td>-0.063474</td>\n",
       "      <td>4.060598</td>\n",
       "      <td>4.322109</td>\n",
       "      <td>-0.026144</td>\n",
       "      <td>7.631851</td>\n",
       "      <td>0</td>\n",
       "      <td>1</td>\n",
       "    </tr>\n",
       "    <tr>\n",
       "      <th>94974</th>\n",
       "      <td>14</td>\n",
       "      <td>nc</td>\n",
       "      <td>numubar</td>\n",
       "      <td>0.540447</td>\n",
       "      <td>0.344140</td>\n",
       "      <td>2.538012</td>\n",
       "      <td>2.149151</td>\n",
       "      <td>0.118027</td>\n",
       "      <td>2.327914</td>\n",
       "      <td>0</td>\n",
       "      <td>1</td>\n",
       "    </tr>\n",
       "  </tbody>\n",
       "</table>\n",
       "<p>94975 rows × 11 columns</p>\n",
       "</div>"
      ],
      "text/plain": [
       "       pdg pid_gen  pid_rec    cz_rec  cz_numu_rec     e_rec  e_numu_rec  \\\n",
       "0       14    numu     numu  0.494961     0.590685  0.853201    1.157009   \n",
       "1       14    numu     numu  0.274824     0.141403  4.300221    4.784906   \n",
       "2       14    numu     numu  0.242091     0.154218  2.578972    2.529813   \n",
       "3       14    numu     numu -0.406088    -0.440340  2.419158    2.477218   \n",
       "4       14    numu  numubar  0.597770     0.653224  3.485928    3.430741   \n",
       "...    ...     ...      ...       ...          ...       ...         ...   \n",
       "94970   14      nc       nc  0.357342     0.369064  1.798511    2.144140   \n",
       "94971  -12      nc       nc -0.290957    -0.492486  2.885988    3.517319   \n",
       "94972   12      nc       nc -0.570296    -0.735233  1.708040    1.500363   \n",
       "94973   14      nc       nc -0.072436    -0.063474  4.060598    4.322109   \n",
       "94974   14      nc  numubar  0.540447     0.344140  2.538012    2.149151   \n",
       "\n",
       "         cz_gen     e_gen  type  weight  \n",
       "0      0.855655  3.841143     1       1  \n",
       "1      0.113431  4.579452     1       1  \n",
       "2      0.404237  2.226287     1       1  \n",
       "3     -0.807746  2.606570     1       1  \n",
       "4      0.187372  3.119193     1       1  \n",
       "...         ...       ...   ...     ...  \n",
       "94970  0.681854  4.422088     0       1  \n",
       "94971  0.044246  5.999827     0       1  \n",
       "94972 -0.395516  2.657809     0       1  \n",
       "94973 -0.026144  7.631851     0       1  \n",
       "94974  0.118027  2.327914     0       1  \n",
       "\n",
       "[94975 rows x 11 columns]"
      ]
     },
     "execution_count": 5,
     "metadata": {},
     "output_type": "execute_result"
    }
   ],
   "source": [
    "input_data"
   ]
  },
  {
   "cell_type": "code",
   "execution_count": 6,
   "metadata": {},
   "outputs": [],
   "source": [
    "new_label = {\"pid_gen\": {\"numu\": 0, \"numubar\": 1, \"nue\": 2, \"nuebar\": 3, \"nc\": 4}}\n",
    "input_data.replace(new_label , inplace = True)\n",
    "new_label = {\"pid_rec\": {\"numu\": 0, \"numubar\": 1, \"nue\": 2, \"nuebar\": 3, \"nc\": 4}}\n",
    "input_data.replace(new_label , inplace = True)\n",
    "theta_rec = np.arccos(input_data['cz_rec'])/np.pi*180.\n",
    "theta_gen = np.arccos(input_data['cz_gen'])/np.pi*180.\n",
    "\n",
    "input_data['theta_rec'] = theta_rec\n",
    "input_data['theta_gen'] = theta_gen"
   ]
  },
  {
   "cell_type": "code",
   "execution_count": 7,
   "metadata": {},
   "outputs": [
    {
     "data": {
      "text/plain": [
       "(0.4546659936491172, 179.73634887223196)"
      ]
     },
     "execution_count": 7,
     "metadata": {},
     "output_type": "execute_result"
    }
   ],
   "source": [
    "min(input_data['theta_gen']), max(input_data['theta_gen'])"
   ]
  },
  {
   "cell_type": "code",
   "execution_count": 56,
   "metadata": {},
   "outputs": [],
   "source": [
    "sim = input_data.sample(frac=0.6, random_state=1)\n",
    "idx = sim.index\n",
    "data = input_data[~input_data.index.isin(idx)]\n",
    "\n",
    "datasets = {'simul':sim,'data':data}"
   ]
  },
  {
   "cell_type": "markdown",
   "metadata": {},
   "source": [
    "## Specifying the Unfolding Problem\n",
    "\n",
    "OmniFold requires particle-level event generators as well as a faithful simulation of the detector, both are in HS. "
   ]
  },
  {
   "cell_type": "code",
   "execution_count": 57,
   "metadata": {},
   "outputs": [],
   "source": [
    "# choose what is MC(MonteCarlo/simulations) and Data in this context\n",
    "synthetic, nature = datasets['simul'], datasets['data']"
   ]
  },
  {
   "cell_type": "markdown",
   "metadata": {},
   "source": [
    "We also have to specify `itnum`: how many iterations of the unfolding procedure we want to do.\n",
    "\n",
    "**Customize**: Change `itnum` to your desired number of unfolding iterations."
   ]
  },
  {
   "cell_type": "code",
   "execution_count": 58,
   "metadata": {},
   "outputs": [],
   "source": [
    "# how many iterations of the unfolding process\n",
    "itnum = 3"
   ]
  },
  {
   "cell_type": "markdown",
   "metadata": {},
   "source": [
    "There are three flavors of OmniFold. In order of increasing sophistication, they are:\n",
    "* **UniFold**: Represent the jet as a single observable.\n",
    "* **MultiFold**: Represent the jet as multiple observables.\n",
    "* **OmniFold**: Represent the jet as a set of particles.\n",
    "\n",
    "i am not shure if this is omnifold or multifold or what is the difference"
   ]
  },
  {
   "cell_type": "code",
   "execution_count": 137,
   "metadata": {},
   "outputs": [],
   "source": [
    "# Phase space of the correction\n",
    "# obs_multifold = ['pid', 'theta', 'e'] \n",
    "obs_multifold = ['theta', 'e'] "
   ]
  },
  {
   "cell_type": "markdown",
   "metadata": {},
   "source": [
    "The observables are already computed in the samples. We will read them in as an observable dictionary `obs` and also specify histogram style information.\n",
    "\n",
    "**Customize**: Add entries to `obs` to define your own observables to be used in MultiFold or to see the unfolding performance on them."
   ]
  },
  {
   "cell_type": "code",
   "execution_count": 152,
   "metadata": {},
   "outputs": [],
   "source": [
    "# a dictionary to hold information about the observables\n",
    "obs = {}\n",
    "\n",
    "# obs.setdefault('pid', {}).update({\n",
    "#     'func': lambda dset, ptype: dset['pid_' + ptype],\n",
    "#     'nbins_det': 5, 'nbins_mc': 5,\n",
    "#     'xlim': (-0.5, 4.5), 'ylim': (0, 1.5),\n",
    "#     'xlabel': r'PID', 'symbol': r'PID',\n",
    "#     'ylabel': r'Normalized Cross Section ',\n",
    "#     'stamp_xy': (0.425, 0.65),\n",
    "# })\n",
    "\n",
    "obs.setdefault('theta', {}).update({\n",
    "    'func': lambda dset, ptype: dset['theta_'+ ptype],\n",
    "    'nbins_det': 18, 'nbins_mc': 18,\n",
    "    'xlim': (0., 180.), 'ylim': (0, 0.02),\n",
    "#     'xlabel': r'$\\nu$[$GeV$]', 'symbol': r'$\\nu$',\n",
    "    'xlabel': r'$\\theta$', 'symbol': r'$\\theta$',\n",
    "#     'ylabel': r'Normalized Cross Section',\n",
    "    'stamp_xy': (0.42, 0.65),\n",
    "})\n",
    "\n",
    "# obs.setdefault('cz', {}).update({\n",
    "#     'func': lambda dset, ptype: dset['cz_'+ ptype],\n",
    "#     'nbins_det': 20, 'nbins_mc': 20,\n",
    "#     'xlim': (-1., 1.), 'ylim': (0., 1.),\n",
    "# #     'xlabel': r'$\\nu$[$GeV$]', 'symbol': r'$\\nu$',\n",
    "#     'xlabel': r'cos$\\theta$', 'symbol': r'cos$\\theta$',\n",
    "# #     'ylabel': r'Normalized Cross Section',\n",
    "#     'stamp_xy': (0.42, 0.65),\n",
    "# })\n",
    "\n",
    "obs.setdefault('e', {}).update({ \n",
    "    'func': lambda dset, ptype: dset['e_' + ptype],\n",
    "    'nbins_det': 20, 'nbins_mc': 20,\n",
    "    'xlim': (0., 20.), 'ylim': (0, 0.5),\n",
    "#     'xlabel': r'$Pt^2$[GeV]', 'symbol': r'$Pt^2$',\n",
    "    'xlabel': r'$E$[GeV]', 'symbol': r'$E$',\n",
    "#     'ylabel': r'Normalized Cross Section',\n",
    "    'stamp_xy': (0.41, 0.92),\n",
    "    'legend_loc': 'upper right', 'legend_ncol': 1,\n",
    "})\n",
    "\n",
    "\n",
    "# additional histogram and plot style information\n",
    "hist_style = {'histtype': 'step', 'density': True, 'lw': 1, 'zorder': 2}\n",
    "gen_style = {'linestyle': '-', 'color': 'blue', 'lw': 1.15, 'label': 'Sim.'}\n",
    "truth_style = {'step': 'mid', 'edgecolor': 'green', 'facecolor': (0.75, 0.875, 0.75),\n",
    "               'lw': 1.25, 'zorder': 0, 'label': '``Data\\\"'}\n",
    "# ibu_style = {'ls': '-', 'marker': 'o', 'ms': 2.5, 'color': 'gray', 'zorder': 1}\n",
    "omnifold_style = {'ls': 'dashed', 'marker': 's', 'ms': 2.5, 'color': 'tab:red', 'zorder': 3}"
   ]
  },
  {
   "cell_type": "markdown",
   "metadata": {},
   "source": [
    "Now all that remains is to get the values of the specified observables and compute the histograms with the specified binnings. As an unfolding benchmark, we also obtain the unfolding results of Iterative Bayesian Unfolding (IBU) as implemented in `ibu.py`. The following cell takes care of all of these aspects."
   ]
  },
  {
   "cell_type": "code",
   "execution_count": 153,
   "metadata": {},
   "outputs": [
    {
     "name": "stdout",
     "output_type": "stream",
     "text": [
      "Done with theta\n",
      "Done with e\n"
     ]
    }
   ],
   "source": [
    "# calculate quantities to be stored in obs\n",
    "for obkey,ob in obs.items():\n",
    "    \n",
    "    # Add the array with the data to the las dictionary\n",
    "    # calculate observable for GEN, (REC)SIM, DATA, and TRUE\n",
    "    ob['genobs'], ob['simobs'] = ob['func'](synthetic, 'gen'), ob['func'](synthetic, 'rec')\n",
    "    ob['truthobs'], ob['dataobs'] = ob['func'](nature, 'gen'), ob['func'](nature, 'rec')\n",
    "\n",
    "    # setup bins\n",
    "    # ob['rec/det or gen/mc'] = np.linspace(min val, max val, nbins + 1)\n",
    "    ob['bins_det'] = np.linspace(ob['xlim'][0], ob['xlim'][1], ob['nbins_det']+1)\n",
    "    ob['bins_mc'] = np.linspace(ob['xlim'][0], ob['xlim'][1], ob['nbins_mc']+1)\n",
    "    # = np.linspace(bin-array except the last number, bin-array except the first number) all array vals divided by 2\n",
    "    ob['midbins_det'] = (ob['bins_det'][:-1] + ob['bins_det'][1:])/2\n",
    "    ob['midbins_mc'] = (ob['bins_mc'][:-1] + ob['bins_mc'][1:])/2\n",
    "    # Second val - first val = width\n",
    "    ob['binwidth_det'] = ob['bins_det'][1] - ob['bins_det'][0]\n",
    "    ob['binwidth_mc'] = ob['bins_mc'][1] - ob['bins_mc'][0]\n",
    "    \n",
    "    # get the histograms of GEN, DATA, and TRUTH level observables\n",
    "    #  np.histogram(data Array , binning array, density=True(this normalize the histogram))\n",
    "    # the [0] is to select the first return object of the method,which is the number of event per bin\n",
    "    # in this case normalized beacause density=True\n",
    "#     ob['genobs_hist'] = np.histogram(ob['genobs'], bins=ob['bins_mc'], density=True)[0]\n",
    "#     ob['data_hist'] = np.histogram(ob['dataobs'], bins=ob['bins_det'], density=True)[0]\n",
    "    ob['simobs_hist'] = np.histogram(ob['simobs'], bins=ob['bins_mc'], density=True)[0]\n",
    "    ob['truth_hist'] = np.histogram(ob['truthobs'], bins=ob['bins_det'], density=True)[0]\n",
    "    # modplot.calc_hist(Data array, binning array,  this just select if the bigger or equal of the binning selection \n",
    "    # goes in the right or in the left)\n",
    "    # [:2] this returns the first 2 object created by the method that  is a histgram and the errors \n",
    "#     ob['truth_hist'], ob['truth_hist_unc'] = modplot.calc_hist(ob['truthobs'],\n",
    "#                                                                bins=ob['bins_mc'], density=True)[:2]\n",
    "    ob['data_hist'], ob['data_hist_unc'] = modplot.calc_hist(ob['dataobs'],\n",
    "                                                               bins=ob['bins_mc'], density=True)[:2]\n",
    "\n",
    "    \n",
    "\n",
    "    # compute (and normalize) the response matrix between GEN and SIM\n",
    "#     ob['response'] = np.histogram2d(ob['simobs'], ob['genobs'], bins=(ob['bins_det'], ob['bins_mc']))[0]\n",
    "#     ob['response'] /= (ob['response'].sum(axis=0) + 10**-50)\n",
    "#     # perform iterative Bayesian unfolding\n",
    "#     ob['ibu_phis'] = ibu.ibu(ob['data_hist'], ob['response'], ob['genobs_hist'], \n",
    "#                          ob['binwidth_det'], ob['binwidth_mc'], it=itnum)\n",
    "#     ob['ibu_phi_unc'] = ibu.ibu_unc(ob, it=itnum, nresamples=25)\n",
    "    \n",
    "    print('Done with', obkey)"
   ]
  },
  {
   "cell_type": "code",
   "execution_count": 154,
   "metadata": {
    "scrolled": false
   },
   "outputs": [],
   "source": [
    "# How many layers and neurons for each layer to use in the deep learning\n",
    "model_layer_sizes = [100, 100]\n",
    "# model_layer_sizes = [100, 100, 100] # use this for the full network size\n",
    "\n",
    "# set up the array of data/simulation detector-level observables\n",
    "# X are the features/variables\n",
    "## reweight gen to truth\n",
    "X_det = np.asarray([np.concatenate((obs[obkey]['truthobs'], obs[obkey]['genobs'])) for obkey in obs_multifold]).T\n",
    "# Y are labels(variable that you want to know)/ weights\n",
    "Y_det = ef.utils.to_categorical(np.concatenate((np.ones(len(obs['e']['truthobs'])), \n",
    "                                                np.zeros(len(obs['e']['genobs'])))))\n",
    "\n",
    "# set up the array of generation particle-level observables\n",
    "X_gen = np.asarray([np.concatenate((obs[obkey]['simobs'], obs[obkey]['simobs'])) for obkey in obs_multifold]).T\n",
    "Y_gen = ef.utils.to_categorical(np.concatenate((np.ones(len(obs['e']['simobs'])), \n",
    "                                                np.zeros(len(obs['e']['simobs'])))))\n",
    "\n",
    "# standardize the inputs (variables- mean)/standar deviation\n",
    "X_det = (X_det - np.mean(X_det, axis=0))/np.std(X_det, axis=0)\n",
    "X_gen = (X_gen - np.mean(X_gen, axis=0))/np.std(X_gen, axis=0)\n",
    "\n",
    "# Specify the training parameters\n",
    "# model parameters for the Step 1 network\n",
    "det_args = {'input_dim': len(obs_multifold), 'dense_sizes': model_layer_sizes,\n",
    "            'patience': 10, 'filepath': 'Step1_{}', 'save_weights_only': False, \n",
    "            'modelcheck_opts': {'save_best_only': True, 'verbose': 1}}\n",
    "\n",
    "# model parameters for the Step 2 network\n",
    "mc_args = {'input_dim': len(obs_multifold), 'dense_sizes': model_layer_sizes, \n",
    "           'patience': 10, 'filepath': 'Step2_{}', 'save_weights_only': False, \n",
    "           'modelcheck_opts': {'save_best_only': True, 'verbose': 1}}\n",
    "\n",
    "# general training parameters\n",
    "# Batch_size is the number of examples used to train the data at same time(it used all but not all at same time)\n",
    "# epoch i the number of steam\n",
    "# i am not sure about the last two thing hahha\n",
    "fitargs = {'batch_size': 500, 'epochs': 2, 'verbose': 1}\n",
    "#fitargs = {'batch_size': 500, 'epochs': 100, 'verbose': 1} # use this for a full training\n",
    "\n",
    "# reweight the sim and data to have the same total weight to begin with\n",
    "ndata, nsim = np.count_nonzero(Y_det[:,1]), np.count_nonzero(Y_det[:,0])\n",
    "wdata = np.ones(ndata)\n",
    "winit = ndata/nsim*np.ones(nsim)"
   ]
  },
  {
   "cell_type": "code",
   "execution_count": 155,
   "metadata": {},
   "outputs": [
    {
     "name": "stdout",
     "output_type": "stream",
     "text": [
      "[[-1.51022641  0.58180339]\n",
      " [ 0.52376984 -0.40997828]\n",
      " [-0.6737355  -0.10304323]\n",
      " ...\n",
      " [ 0.32475385  1.45072486]\n",
      " [-1.62152311 -0.63162417]\n",
      " [ 0.22937643 -0.66990563]]\n"
     ]
    }
   ],
   "source": [
    "print(X_det)"
   ]
  },
  {
   "cell_type": "code",
   "execution_count": 156,
   "metadata": {},
   "outputs": [
    {
     "name": "stdout",
     "output_type": "stream",
     "text": [
      "Model: \"model_54\"\n",
      "_________________________________________________________________\n",
      " Layer (type)                Output Shape              Param #   \n",
      "=================================================================\n",
      " input (InputLayer)          [(None, 2)]               0         \n",
      "                                                                 \n",
      " dense_0 (Dense)             (None, 100)               300       \n",
      "                                                                 \n",
      " activation_162 (Activation)  (None, 100)              0         \n",
      "                                                                 \n",
      " dense_1 (Dense)             (None, 100)               10100     \n",
      "                                                                 \n",
      " activation_163 (Activation)  (None, 100)              0         \n",
      "                                                                 \n",
      " output (Dense)              (None, 2)                 202       \n",
      "                                                                 \n",
      " activation_164 (Activation)  (None, 2)                0         \n",
      "                                                                 \n",
      "=================================================================\n",
      "Total params: 10,602\n",
      "Trainable params: 10,602\n",
      "Non-trainable params: 0\n",
      "_________________________________________________________________\n",
      "Model: \"model_55\"\n",
      "_________________________________________________________________\n",
      " Layer (type)                Output Shape              Param #   \n",
      "=================================================================\n",
      " input (InputLayer)          [(None, 2)]               0         \n",
      "                                                                 \n",
      " dense_0 (Dense)             (None, 100)               300       \n",
      "                                                                 \n",
      " activation_165 (Activation)  (None, 100)              0         \n",
      "                                                                 \n",
      " dense_1 (Dense)             (None, 100)               10100     \n",
      "                                                                 \n",
      " activation_166 (Activation)  (None, 100)              0         \n",
      "                                                                 \n",
      " output (Dense)              (None, 2)                 202       \n",
      "                                                                 \n",
      " activation_167 (Activation)  (None, 2)                0         \n",
      "                                                                 \n",
      "=================================================================\n",
      "Total params: 10,602\n",
      "Trainable params: 10,602\n",
      "Non-trainable params: 0\n",
      "_________________________________________________________________\n",
      "Epoch 1/2\n",
      "120/152 [======================>.......] - ETA: 0s - loss: 0.5637 - acc: 0.5027WARNING:tensorflow:`evaluate()` received a value for `sample_weight`, but `weighted_metrics` were not provided.  Did you mean to pass metrics to `weighted_metrics` in `compile()`?  If this is intentional you can pass `weighted_metrics=[]` to `compile()` in order to silence this warning.\n"
     ]
    },
    {
     "name": "stderr",
     "output_type": "stream",
     "text": [
      "WARNING:tensorflow:`evaluate()` received a value for `sample_weight`, but `weighted_metrics` were not provided.  Did you mean to pass metrics to `weighted_metrics` in `compile()`?  If this is intentional you can pass `weighted_metrics=[]` to `compile()` in order to silence this warning.\n"
     ]
    },
    {
     "name": "stdout",
     "output_type": "stream",
     "text": [
      "\n",
      "Epoch 1: val_loss improved from inf to 0.55632, saving model to Step1_0_Epoch-1\n"
     ]
    },
    {
     "name": "stderr",
     "output_type": "stream",
     "text": [
      "WARNING:absl:Found untraced functions such as _update_step_xla while saving (showing 1 of 1). These functions will not be directly callable after loading.\n"
     ]
    },
    {
     "name": "stdout",
     "output_type": "stream",
     "text": [
      "INFO:tensorflow:Assets written to: Step1_0_Epoch-1/assets\n"
     ]
    },
    {
     "name": "stderr",
     "output_type": "stream",
     "text": [
      "INFO:tensorflow:Assets written to: Step1_0_Epoch-1/assets\n"
     ]
    },
    {
     "name": "stdout",
     "output_type": "stream",
     "text": [
      "152/152 [==============================] - 5s 29ms/step - loss: 0.5622 - acc: 0.5008 - val_loss: 0.5563 - val_acc: 0.5139\n",
      "Epoch 2/2\n",
      "126/152 [=======================>......] - ETA: 0s - loss: 0.5580 - acc: 0.5012WARNING:tensorflow:`evaluate()` received a value for `sample_weight`, but `weighted_metrics` were not provided.  Did you mean to pass metrics to `weighted_metrics` in `compile()`?  If this is intentional you can pass `weighted_metrics=[]` to `compile()` in order to silence this warning.\n"
     ]
    },
    {
     "name": "stderr",
     "output_type": "stream",
     "text": [
      "WARNING:tensorflow:`evaluate()` received a value for `sample_weight`, but `weighted_metrics` were not provided.  Did you mean to pass metrics to `weighted_metrics` in `compile()`?  If this is intentional you can pass `weighted_metrics=[]` to `compile()` in order to silence this warning.\n"
     ]
    },
    {
     "name": "stdout",
     "output_type": "stream",
     "text": [
      "\n",
      "Epoch 2: val_loss did not improve from 0.55632\n",
      "152/152 [==============================] - 0s 2ms/step - loss: 0.5577 - acc: 0.5027 - val_loss: 0.5567 - val_acc: 0.5307\n",
      "16/16 [==============================] - 0s 2ms/step\n",
      "4/4 [==============================] - 0s 3ms/step\n",
      "Epoch 1/2\n",
      "151/183 [=======================>......] - ETA: 0s - loss: 0.4605 - acc: 0.5001WARNING:tensorflow:`evaluate()` received a value for `sample_weight`, but `weighted_metrics` were not provided.  Did you mean to pass metrics to `weighted_metrics` in `compile()`?  If this is intentional you can pass `weighted_metrics=[]` to `compile()` in order to silence this warning.\n"
     ]
    },
    {
     "name": "stderr",
     "output_type": "stream",
     "text": [
      "WARNING:tensorflow:`evaluate()` received a value for `sample_weight`, but `weighted_metrics` were not provided.  Did you mean to pass metrics to `weighted_metrics` in `compile()`?  If this is intentional you can pass `weighted_metrics=[]` to `compile()` in order to silence this warning.\n"
     ]
    },
    {
     "name": "stdout",
     "output_type": "stream",
     "text": [
      "\n",
      "Epoch 1: val_loss improved from inf to 0.44965, saving model to Step2_0_Epoch-1\n"
     ]
    },
    {
     "name": "stderr",
     "output_type": "stream",
     "text": [
      "WARNING:absl:Found untraced functions such as _update_step_xla while saving (showing 1 of 1). These functions will not be directly callable after loading.\n"
     ]
    },
    {
     "name": "stdout",
     "output_type": "stream",
     "text": [
      "INFO:tensorflow:Assets written to: Step2_0_Epoch-1/assets\n"
     ]
    },
    {
     "name": "stderr",
     "output_type": "stream",
     "text": [
      "INFO:tensorflow:Assets written to: Step2_0_Epoch-1/assets\n"
     ]
    },
    {
     "name": "stdout",
     "output_type": "stream",
     "text": [
      "183/183 [==============================] - 6s 29ms/step - loss: 0.4589 - acc: 0.4989 - val_loss: 0.4496 - val_acc: 0.5000\n",
      "Epoch 2/2\n",
      "172/183 [===========================>..] - ETA: 0s - loss: 0.4506 - acc: 0.4991WARNING:tensorflow:`evaluate()` received a value for `sample_weight`, but `weighted_metrics` were not provided.  Did you mean to pass metrics to `weighted_metrics` in `compile()`?  If this is intentional you can pass `weighted_metrics=[]` to `compile()` in order to silence this warning.\n"
     ]
    },
    {
     "name": "stderr",
     "output_type": "stream",
     "text": [
      "WARNING:tensorflow:`evaluate()` received a value for `sample_weight`, but `weighted_metrics` were not provided.  Did you mean to pass metrics to `weighted_metrics` in `compile()`?  If this is intentional you can pass `weighted_metrics=[]` to `compile()` in order to silence this warning.\n"
     ]
    },
    {
     "name": "stdout",
     "output_type": "stream",
     "text": [
      "\n",
      "Epoch 2: val_loss did not improve from 0.44965\n",
      "183/183 [==============================] - 0s 2ms/step - loss: 0.4506 - acc: 0.4995 - val_loss: 0.4498 - val_acc: 0.5000\n",
      "19/19 [==============================] - 0s 2ms/step\n",
      "5/5 [==============================] - 0s 2ms/step\n",
      "Model: \"model_56\"\n",
      "_________________________________________________________________\n",
      " Layer (type)                Output Shape              Param #   \n",
      "=================================================================\n",
      " input (InputLayer)          [(None, 2)]               0         \n",
      "                                                                 \n",
      " dense_0 (Dense)             (None, 100)               300       \n",
      "                                                                 \n",
      " activation_168 (Activation)  (None, 100)              0         \n",
      "                                                                 \n",
      " dense_1 (Dense)             (None, 100)               10100     \n",
      "                                                                 \n",
      " activation_169 (Activation)  (None, 100)              0         \n",
      "                                                                 \n",
      " output (Dense)              (None, 2)                 202       \n",
      "                                                                 \n",
      " activation_170 (Activation)  (None, 2)                0         \n",
      "                                                                 \n",
      "=================================================================\n",
      "Total params: 10,602\n",
      "Trainable params: 10,602\n",
      "Non-trainable params: 0\n",
      "_________________________________________________________________\n",
      "Model: \"model_57\"\n",
      "_________________________________________________________________\n",
      " Layer (type)                Output Shape              Param #   \n",
      "=================================================================\n",
      " input (InputLayer)          [(None, 2)]               0         \n",
      "                                                                 \n",
      " dense_0 (Dense)             (None, 100)               300       \n",
      "                                                                 \n",
      " activation_171 (Activation)  (None, 100)              0         \n",
      "                                                                 \n",
      " dense_1 (Dense)             (None, 100)               10100     \n",
      "                                                                 \n",
      " activation_172 (Activation)  (None, 100)              0         \n",
      "                                                                 \n",
      " output (Dense)              (None, 2)                 202       \n",
      "                                                                 \n",
      " activation_173 (Activation)  (None, 2)                0         \n",
      "                                                                 \n",
      "=================================================================\n",
      "Total params: 10,602\n",
      "Trainable params: 10,602\n",
      "Non-trainable params: 0\n",
      "_________________________________________________________________\n",
      "Epoch 1/2\n",
      "125/152 [=======================>......] - ETA: 0s - loss: 0.5469 - acc: 0.4897WARNING:tensorflow:`evaluate()` received a value for `sample_weight`, but `weighted_metrics` were not provided.  Did you mean to pass metrics to `weighted_metrics` in `compile()`?  If this is intentional you can pass `weighted_metrics=[]` to `compile()` in order to silence this warning.\n"
     ]
    },
    {
     "name": "stderr",
     "output_type": "stream",
     "text": [
      "WARNING:tensorflow:`evaluate()` received a value for `sample_weight`, but `weighted_metrics` were not provided.  Did you mean to pass metrics to `weighted_metrics` in `compile()`?  If this is intentional you can pass `weighted_metrics=[]` to `compile()` in order to silence this warning.\n"
     ]
    },
    {
     "name": "stdout",
     "output_type": "stream",
     "text": [
      "\n",
      "Epoch 1: val_loss improved from inf to 0.54653, saving model to Step1_1_Epoch-1\n"
     ]
    },
    {
     "name": "stderr",
     "output_type": "stream",
     "text": [
      "WARNING:absl:Found untraced functions such as _update_step_xla while saving (showing 1 of 1). These functions will not be directly callable after loading.\n"
     ]
    },
    {
     "name": "stdout",
     "output_type": "stream",
     "text": [
      "INFO:tensorflow:Assets written to: Step1_1_Epoch-1/assets\n"
     ]
    },
    {
     "name": "stderr",
     "output_type": "stream",
     "text": [
      "INFO:tensorflow:Assets written to: Step1_1_Epoch-1/assets\n"
     ]
    },
    {
     "name": "stdout",
     "output_type": "stream",
     "text": [
      "152/152 [==============================] - 5s 28ms/step - loss: 0.5467 - acc: 0.4873 - val_loss: 0.5465 - val_acc: 0.5349\n",
      "Epoch 2/2\n",
      "132/152 [=========================>....] - ETA: 0s - loss: 0.5460 - acc: 0.4889WARNING:tensorflow:`evaluate()` received a value for `sample_weight`, but `weighted_metrics` were not provided.  Did you mean to pass metrics to `weighted_metrics` in `compile()`?  If this is intentional you can pass `weighted_metrics=[]` to `compile()` in order to silence this warning.\n"
     ]
    },
    {
     "name": "stderr",
     "output_type": "stream",
     "text": [
      "WARNING:tensorflow:`evaluate()` received a value for `sample_weight`, but `weighted_metrics` were not provided.  Did you mean to pass metrics to `weighted_metrics` in `compile()`?  If this is intentional you can pass `weighted_metrics=[]` to `compile()` in order to silence this warning.\n"
     ]
    },
    {
     "name": "stdout",
     "output_type": "stream",
     "text": [
      "\n",
      "Epoch 2: val_loss did not improve from 0.54653\n",
      "152/152 [==============================] - 0s 2ms/step - loss: 0.5461 - acc: 0.4888 - val_loss: 0.5476 - val_acc: 0.5402\n",
      "16/16 [==============================] - 0s 2ms/step\n",
      "4/4 [==============================] - 0s 3ms/step\n",
      "Epoch 1/2\n",
      "162/183 [=========================>....] - ETA: 0s - loss: 0.4398 - acc: 0.5021WARNING:tensorflow:`evaluate()` received a value for `sample_weight`, but `weighted_metrics` were not provided.  Did you mean to pass metrics to `weighted_metrics` in `compile()`?  If this is intentional you can pass `weighted_metrics=[]` to `compile()` in order to silence this warning.\n"
     ]
    },
    {
     "name": "stderr",
     "output_type": "stream",
     "text": [
      "WARNING:tensorflow:`evaluate()` received a value for `sample_weight`, but `weighted_metrics` were not provided.  Did you mean to pass metrics to `weighted_metrics` in `compile()`?  If this is intentional you can pass `weighted_metrics=[]` to `compile()` in order to silence this warning.\n"
     ]
    },
    {
     "name": "stdout",
     "output_type": "stream",
     "text": [
      "\n",
      "Epoch 1: val_loss improved from inf to 0.43848, saving model to Step2_1_Epoch-1\n"
     ]
    },
    {
     "name": "stderr",
     "output_type": "stream",
     "text": [
      "WARNING:absl:Found untraced functions such as _update_step_xla while saving (showing 1 of 1). These functions will not be directly callable after loading.\n"
     ]
    },
    {
     "name": "stdout",
     "output_type": "stream",
     "text": [
      "INFO:tensorflow:Assets written to: Step2_1_Epoch-1/assets\n"
     ]
    },
    {
     "name": "stderr",
     "output_type": "stream",
     "text": [
      "INFO:tensorflow:Assets written to: Step2_1_Epoch-1/assets\n"
     ]
    },
    {
     "name": "stdout",
     "output_type": "stream",
     "text": [
      "183/183 [==============================] - 5s 26ms/step - loss: 0.4397 - acc: 0.5014 - val_loss: 0.4385 - val_acc: 0.5000\n",
      "Epoch 2/2\n",
      "160/183 [=========================>....] - ETA: 0s - loss: 0.4396 - acc: 0.4997WARNING:tensorflow:`evaluate()` received a value for `sample_weight`, but `weighted_metrics` were not provided.  Did you mean to pass metrics to `weighted_metrics` in `compile()`?  If this is intentional you can pass `weighted_metrics=[]` to `compile()` in order to silence this warning.\n"
     ]
    },
    {
     "name": "stderr",
     "output_type": "stream",
     "text": [
      "WARNING:tensorflow:`evaluate()` received a value for `sample_weight`, but `weighted_metrics` were not provided.  Did you mean to pass metrics to `weighted_metrics` in `compile()`?  If this is intentional you can pass `weighted_metrics=[]` to `compile()` in order to silence this warning.\n"
     ]
    },
    {
     "name": "stdout",
     "output_type": "stream",
     "text": [
      "\n",
      "Epoch 2: val_loss improved from 0.43848 to 0.43822, saving model to Step2_1_Epoch-2\n"
     ]
    },
    {
     "name": "stderr",
     "output_type": "stream",
     "text": [
      "WARNING:absl:Found untraced functions such as _update_step_xla while saving (showing 1 of 1). These functions will not be directly callable after loading.\n"
     ]
    },
    {
     "name": "stdout",
     "output_type": "stream",
     "text": [
      "INFO:tensorflow:Assets written to: Step2_1_Epoch-2/assets\n"
     ]
    },
    {
     "name": "stderr",
     "output_type": "stream",
     "text": [
      "INFO:tensorflow:Assets written to: Step2_1_Epoch-2/assets\n"
     ]
    },
    {
     "name": "stdout",
     "output_type": "stream",
     "text": [
      "183/183 [==============================] - 1s 5ms/step - loss: 0.4395 - acc: 0.5003 - val_loss: 0.4382 - val_acc: 0.5000\n",
      "19/19 [==============================] - 0s 3ms/step\n",
      "5/5 [==============================] - 0s 3ms/step\n",
      "Model: \"model_58\"\n",
      "_________________________________________________________________\n",
      " Layer (type)                Output Shape              Param #   \n",
      "=================================================================\n",
      " input (InputLayer)          [(None, 2)]               0         \n",
      "                                                                 \n",
      " dense_0 (Dense)             (None, 100)               300       \n",
      "                                                                 \n",
      " activation_174 (Activation)  (None, 100)              0         \n",
      "                                                                 \n",
      " dense_1 (Dense)             (None, 100)               10100     \n",
      "                                                                 \n",
      " activation_175 (Activation)  (None, 100)              0         \n",
      "                                                                 \n",
      " output (Dense)              (None, 2)                 202       \n",
      "                                                                 \n",
      " activation_176 (Activation)  (None, 2)                0         \n",
      "                                                                 \n",
      "=================================================================\n",
      "Total params: 10,602\n",
      "Trainable params: 10,602\n",
      "Non-trainable params: 0\n",
      "_________________________________________________________________\n",
      "Model: \"model_59\"\n",
      "_________________________________________________________________\n",
      " Layer (type)                Output Shape              Param #   \n",
      "=================================================================\n",
      " input (InputLayer)          [(None, 2)]               0         \n",
      "                                                                 \n",
      " dense_0 (Dense)             (None, 100)               300       \n",
      "                                                                 \n",
      " activation_177 (Activation)  (None, 100)              0         \n",
      "                                                                 \n",
      " dense_1 (Dense)             (None, 100)               10100     \n",
      "                                                                 \n",
      " activation_178 (Activation)  (None, 100)              0         \n",
      "                                                                 \n",
      " output (Dense)              (None, 2)                 202       \n",
      "                                                                 \n",
      " activation_179 (Activation)  (None, 2)                0         \n",
      "                                                                 \n",
      "=================================================================\n",
      "Total params: 10,602\n",
      "Trainable params: 10,602\n",
      "Non-trainable params: 0\n",
      "_________________________________________________________________\n",
      "Epoch 1/2\n",
      "130/152 [========================>.....] - ETA: 0s - loss: 0.5507 - acc: 0.4961WARNING:tensorflow:`evaluate()` received a value for `sample_weight`, but `weighted_metrics` were not provided.  Did you mean to pass metrics to `weighted_metrics` in `compile()`?  If this is intentional you can pass `weighted_metrics=[]` to `compile()` in order to silence this warning.\n"
     ]
    },
    {
     "name": "stderr",
     "output_type": "stream",
     "text": [
      "WARNING:tensorflow:`evaluate()` received a value for `sample_weight`, but `weighted_metrics` were not provided.  Did you mean to pass metrics to `weighted_metrics` in `compile()`?  If this is intentional you can pass `weighted_metrics=[]` to `compile()` in order to silence this warning.\n"
     ]
    },
    {
     "name": "stdout",
     "output_type": "stream",
     "text": [
      "\n",
      "Epoch 1: val_loss improved from inf to 0.55421, saving model to Step1_2_Epoch-1\n"
     ]
    },
    {
     "name": "stderr",
     "output_type": "stream",
     "text": [
      "WARNING:absl:Found untraced functions such as _update_step_xla while saving (showing 1 of 1). These functions will not be directly callable after loading.\n"
     ]
    },
    {
     "name": "stdout",
     "output_type": "stream",
     "text": [
      "INFO:tensorflow:Assets written to: Step1_2_Epoch-1/assets\n"
     ]
    },
    {
     "name": "stderr",
     "output_type": "stream",
     "text": [
      "INFO:tensorflow:Assets written to: Step1_2_Epoch-1/assets\n"
     ]
    },
    {
     "name": "stdout",
     "output_type": "stream",
     "text": [
      "152/152 [==============================] - 5s 27ms/step - loss: 0.5504 - acc: 0.4983 - val_loss: 0.5542 - val_acc: 0.5889\n",
      "Epoch 2/2\n",
      "134/152 [=========================>....] - ETA: 0s - loss: 0.5506 - acc: 0.4927WARNING:tensorflow:`evaluate()` received a value for `sample_weight`, but `weighted_metrics` were not provided.  Did you mean to pass metrics to `weighted_metrics` in `compile()`?  If this is intentional you can pass `weighted_metrics=[]` to `compile()` in order to silence this warning.\n"
     ]
    },
    {
     "name": "stderr",
     "output_type": "stream",
     "text": [
      "WARNING:tensorflow:`evaluate()` received a value for `sample_weight`, but `weighted_metrics` were not provided.  Did you mean to pass metrics to `weighted_metrics` in `compile()`?  If this is intentional you can pass `weighted_metrics=[]` to `compile()` in order to silence this warning.\n"
     ]
    },
    {
     "name": "stdout",
     "output_type": "stream",
     "text": [
      "\n",
      "Epoch 2: val_loss improved from 0.55421 to 0.55228, saving model to Step1_2_Epoch-2\n"
     ]
    },
    {
     "name": "stderr",
     "output_type": "stream",
     "text": [
      "WARNING:absl:Found untraced functions such as _update_step_xla while saving (showing 1 of 1). These functions will not be directly callable after loading.\n"
     ]
    },
    {
     "name": "stdout",
     "output_type": "stream",
     "text": [
      "INFO:tensorflow:Assets written to: Step1_2_Epoch-2/assets\n"
     ]
    },
    {
     "name": "stderr",
     "output_type": "stream",
     "text": [
      "INFO:tensorflow:Assets written to: Step1_2_Epoch-2/assets\n"
     ]
    },
    {
     "name": "stdout",
     "output_type": "stream",
     "text": [
      "152/152 [==============================] - 1s 6ms/step - loss: 0.5507 - acc: 0.4922 - val_loss: 0.5523 - val_acc: 0.5428\n",
      "16/16 [==============================] - 0s 2ms/step\n",
      "4/4 [==============================] - 0s 3ms/step\n",
      "Epoch 1/2\n",
      "165/183 [==========================>...] - ETA: 0s - loss: 0.4412 - acc: 0.4993WARNING:tensorflow:`evaluate()` received a value for `sample_weight`, but `weighted_metrics` were not provided.  Did you mean to pass metrics to `weighted_metrics` in `compile()`?  If this is intentional you can pass `weighted_metrics=[]` to `compile()` in order to silence this warning.\n"
     ]
    },
    {
     "name": "stderr",
     "output_type": "stream",
     "text": [
      "WARNING:tensorflow:`evaluate()` received a value for `sample_weight`, but `weighted_metrics` were not provided.  Did you mean to pass metrics to `weighted_metrics` in `compile()`?  If this is intentional you can pass `weighted_metrics=[]` to `compile()` in order to silence this warning.\n"
     ]
    },
    {
     "name": "stdout",
     "output_type": "stream",
     "text": [
      "\n",
      "Epoch 1: val_loss improved from inf to 0.43943, saving model to Step2_2_Epoch-1\n"
     ]
    },
    {
     "name": "stderr",
     "output_type": "stream",
     "text": [
      "WARNING:absl:Found untraced functions such as _update_step_xla while saving (showing 1 of 1). These functions will not be directly callable after loading.\n"
     ]
    },
    {
     "name": "stdout",
     "output_type": "stream",
     "text": [
      "INFO:tensorflow:Assets written to: Step2_2_Epoch-1/assets\n"
     ]
    },
    {
     "name": "stderr",
     "output_type": "stream",
     "text": [
      "INFO:tensorflow:Assets written to: Step2_2_Epoch-1/assets\n"
     ]
    },
    {
     "name": "stdout",
     "output_type": "stream",
     "text": [
      "183/183 [==============================] - 6s 28ms/step - loss: 0.4412 - acc: 0.4981 - val_loss: 0.4394 - val_acc: 0.5000\n",
      "Epoch 2/2\n",
      "166/183 [==========================>...] - ETA: 0s - loss: 0.4406 - acc: 0.5004WARNING:tensorflow:`evaluate()` received a value for `sample_weight`, but `weighted_metrics` were not provided.  Did you mean to pass metrics to `weighted_metrics` in `compile()`?  If this is intentional you can pass `weighted_metrics=[]` to `compile()` in order to silence this warning.\n"
     ]
    },
    {
     "name": "stderr",
     "output_type": "stream",
     "text": [
      "WARNING:tensorflow:`evaluate()` received a value for `sample_weight`, but `weighted_metrics` were not provided.  Did you mean to pass metrics to `weighted_metrics` in `compile()`?  If this is intentional you can pass `weighted_metrics=[]` to `compile()` in order to silence this warning.\n"
     ]
    },
    {
     "name": "stdout",
     "output_type": "stream",
     "text": [
      "\n",
      "Epoch 2: val_loss did not improve from 0.43943\n",
      "183/183 [==============================] - 0s 2ms/step - loss: 0.4406 - acc: 0.4997 - val_loss: 0.4400 - val_acc: 0.5000\n",
      "19/19 [==============================] - 0s 2ms/step\n",
      "5/5 [==============================] - 0s 2ms/step\n"
     ]
    }
   ],
   "source": [
    "# apply the OmniFold procedure to get weights for the generation\n",
    "multifold_ws = omnifold.omnifold(X_gen, Y_gen, X_det, Y_det, wdata, winit,\n",
    "                                (ef.archs.DNN, det_args), (ef.archs.DNN, mc_args),\n",
    "                                fitargs, val=0.2, it=itnum, trw_ind=-2, weights_filename='Test')"
   ]
  },
  {
   "cell_type": "code",
   "execution_count": 157,
   "metadata": {
    "scrolled": true
   },
   "outputs": [
    {
     "data": {
      "image/png": "[encoded data removed]",
      "text/plain": [
       "<Figure size 480x480 with 2 Axes>"
      ]
     },
     "metadata": {},
     "output_type": "display_data"
    },
    {
     "data": {
      "image/png": "[encoded data removed]",
      "text/plain": [
       "<Figure size 480x480 with 2 Axes>"
      ]
     },
     "metadata": {},
     "output_type": "display_data"
    }
   ],
   "source": [
    "plot_directory  = \"./plots/\"\n",
    "\n",
    "for i,(obkey,ob) in enumerate(obs.items()):\n",
    "\n",
    "\n",
    "    # get the styled axes on which to plot\n",
    "    ob['ylabel_ratio']='Ratio to\\nData'\n",
    "    fig, [ax0, ax1] = modplot.axes(**ob)\n",
    "    if ob.get('yscale') is not None:\n",
    "        ax0.set_yscale(ob['yscale'])\n",
    "\n",
    "        \n",
    "    # Plot the Different Distributions of the Observable\n",
    "    # plot the \"data\" histogram of the observable\n",
    "    \n",
    "    ax0.hist(ob['truthobs'], bins=ob['bins_det'], color='black', label='\\\"Truth\\\"', **hist_style)\n",
    "\n",
    "\n",
    "    # plot the \"sim\" histogram of the observable\n",
    "    ax0.hist(ob['genobs'], bins=ob['bins_det'], color='orange', label='Gen.', **hist_style, linestyle = 'dotted')\n",
    "\n",
    "    # plot the \"gen\" histogram of the observable\n",
    "    ax0.plot(ob['midbins_mc'], ob['simobs_hist'], **gen_style)\n",
    "\n",
    "    # plot the \"truth\" histogram of the observable\n",
    "    ax0.fill_between(ob['midbins_mc'], ob['data_hist'], **truth_style)\n",
    "\n",
    "    \n",
    "    # Plot the Unfolded Distributions of the Observable\n",
    "    # plot the OmniFold distribution\n",
    "    of_histgen, of_histgen_unc = modplot.calc_hist(ob['simobs'], \n",
    "                                                   weights=multifold_ws[-1], \n",
    "                                                   bins=ob['bins_mc'], density=True)[:2]\n",
    "    \n",
    "    ax0.plot(ob['midbins_mc'], of_histgen, **omnifold_style, label='Folded')\n",
    "\n",
    "    # plot the IBU distribution\n",
    "    #ax0.plot(ob['midbins_mc'], ob['ibu_phis'][itnum], **ibu_style, label='IBU ' + ob['symbol'])\n",
    "\n",
    "    # Plot the Ratios of the OmniFold and IBU distributions to truth (with statistical uncertainties)\n",
    "    # ibu_ratio = ob['ibu_phis'][itnum]/(ob['truth_hist'] + 10**-50)\n",
    "    of_ratio = of_histgen/(ob['data_hist'] + 10**-50)\n",
    "    ax1.plot([np.min(ob['midbins_mc']), np.max(ob['midbins_mc'])], [1, 1], '-', color='green', lw=0.75)\n",
    "    \n",
    "    # ratio uncertainties\n",
    "    truth_unc_ratio = ob['data_hist_unc']/(ob['data_hist'] + 10**-50)\n",
    "    #ibu_unc_ratio = ob['ibu_phi_unc']/(ob['truth_hist'] + 10**-50)\n",
    "    of_unc_ratio = of_histgen_unc/(ob['data_hist'] + 10**-50)\n",
    "    \n",
    "    ax1.fill_between(ob['midbins_mc'], 1 - truth_unc_ratio, 1 + truth_unc_ratio, \n",
    "                     facecolor=truth_style['facecolor'], zorder=-2)\n",
    "    #ax1.errorbar(ob['midbins_mc'], ibu_ratio, xerr=ob['binwidth_mc']/2, yerr=ibu_unc_ratio, \n",
    "                                              #color=ibu_style['color'], **modplot.style('errorbar'))\n",
    "    ax1.errorbar(ob['midbins_mc'], of_ratio, xerr=ob['binwidth_mc']/2, yerr=of_unc_ratio, \n",
    "                                              color=omnifold_style['color'], **modplot.style('errorbar'))\n",
    "\n",
    "    # legend style and ordering\n",
    "    loc, ncol = ob.get('legend_loc', 'upper right'), ob.get('legend_ncol', 2)\n",
    "    order = [3, 4, 2, 0, 1] if ncol==2 else [3, 4, 0, 2, 1]\n",
    "    modplot.legend(ax=ax0, frameon=False, order=order, loc=loc, ncol=ncol)\n",
    "\n",
    "\n",
    "    # save plot.\n",
    "    fig.savefig(plot_directory + 'MultiFold_{}.pdf'.format(obkey), bbox_inches='tight')  "
   ]
  },
  {
   "cell_type": "code",
   "execution_count": 158,
   "metadata": {},
   "outputs": [
    {
     "name": "stdout",
     "output_type": "stream",
     "text": [
      "43775.07888330734\n"
     ]
    }
   ],
   "source": [
    "weight_dic = {'weight': multifold_ws[-2]}\n",
    "sim.update(weight_dic)\n",
    "# print(sim['weight'][sim['weight']>1.05])\n",
    "print(sim['weight'].sum())\n",
    "# output = pd.DataFrame()\n",
    "# df_dictionary = pd.DataFrame([weight_dic])\n",
    "# output = data.assign(weight=multifold_ws[2*itnum])"
   ]
  },
  {
   "cell_type": "code",
   "execution_count": 159,
   "metadata": {},
   "outputs": [
    {
     "data": {
      "text/plain": [
       "array([0.37404912, 0.69284961, 0.75829823, ..., 0.54288767, 0.68167088,\n",
       "       0.67428306])"
      ]
     },
     "execution_count": 159,
     "metadata": {},
     "output_type": "execute_result"
    }
   ],
   "source": [
    "weight_dic['weight']"
   ]
  },
  {
   "cell_type": "code",
   "execution_count": 160,
   "metadata": {},
   "outputs": [],
   "source": [
    "# import importlib\n",
    "# importlib.reload(omnifold)"
   ]
  },
  {
   "cell_type": "code",
   "execution_count": 161,
   "metadata": {},
   "outputs": [
    {
     "data": {
      "image/png": "[encoded data removed]",
      "text/plain": [
       "<Figure size 480x360 with 1 Axes>"
      ]
     },
     "metadata": {},
     "output_type": "display_data"
    },
    {
     "data": {
      "image/png": "[encoded data removed]",
      "text/plain": [
       "<Figure size 480x360 with 1 Axes>"
      ]
     },
     "metadata": {},
     "output_type": "display_data"
    }
   ],
   "source": [
    "for i,(obkey,ob) in enumerate(obs.items()):\n",
    "\n",
    "    ob['ylabel'] = 'events'\n",
    "    ob['ylim'] = (0, 20000)\n",
    "    ob['figsize'] = (4,3)\n",
    "#     print(ob)\n",
    "    fig, [ax0] = modplot.axes(ratio_plot=False, **ob)\n",
    "#     if ob.get('yscale') is not None:\n",
    "#     ax0.set_ylim([0,20000])\n",
    "    ob['simobs_hist_o'] = np.histogram(ob['simobs'], bins=ob['bins_mc'], density=False)[0]\n",
    "    ob['data_hist_o'], ob['data_hist_unc_o'] = modplot.calc_hist(ob['dataobs'],\n",
    "                                                               bins=ob['bins_mc'], density=False)[:2]    \n",
    "    ax0.plot(ob['midbins_mc'], ob['simobs_hist_o'], **gen_style)\n",
    "\n",
    "    ax0.fill_between(ob['midbins_mc'], ob['data_hist_o'], **truth_style)\n",
    "    ob['simobs_hist_w'] = np.histogram(ob['simobs'], bins=ob['bins_mc'], weights=multifold_ws[-1], density=False)[0]\n",
    "    ax0.plot(ob['midbins_mc'], ob['simobs_hist_w'], **omnifold_style, label='Folded')\n",
    "\n",
    "\n",
    "    loc, ncol = ob.get('legend_loc', 'upper right'), ob.get('legend_ncol', 2)\n",
    "    order = [0, 1, 2] \n",
    "    modplot.legend(ax=ax0, frameon=False, order=order, loc=loc, ncol=ncol)\n"
   ]
  },
  {
   "cell_type": "code",
   "execution_count": 136,
   "metadata": {},
   "outputs": [],
   "source": [
    "test = np.load('./Test.npy')"
   ]
  },
  {
   "cell_type": "code",
   "execution_count": 111,
   "metadata": {},
   "outputs": [
    {
     "data": {
      "text/plain": [
       "array([[0.66666667, 0.66666667, 0.66666667, ..., 0.66666667, 0.66666667,\n",
       "        0.66666667],\n",
       "       [0.88881135, 0.61499329, 0.58658961, ..., 0.72579988, 0.63911406,\n",
       "        0.57276122],\n",
       "       [0.92415786, 0.72337937, 0.82172259, ..., 0.84047969, 1.01489107,\n",
       "        0.70089912],\n",
       "       ...,\n",
       "       [0.87742065, 0.64444261, 0.67320445, ..., 0.77206827, 0.82311826,\n",
       "        0.59131901],\n",
       "       [0.25531425, 0.59117785, 0.57757008, ..., 0.48482327, 0.59664959,\n",
       "        0.5146084 ],\n",
       "       [0.72674279, 0.47182859, 0.50323694, ..., 0.6727444 , 0.56678148,\n",
       "        0.43999637]])"
      ]
     },
     "execution_count": 111,
     "metadata": {},
     "output_type": "execute_result"
    }
   ],
   "source": [
    "test"
   ]
  },
  {
   "cell_type": "code",
   "execution_count": null,
   "metadata": {},
   "outputs": [],
   "source": []
  }
 ],
 "metadata": {
  "kernelspec": {
   "display_name": "Python 3 (ipykernel)",
   "language": "python",
   "name": "python3"
  },
  "language_info": {
   "codemirror_mode": {
    "name": "ipython",
    "version": 3
   },
   "file_extension": ".py",
   "mimetype": "text/x-python",
   "name": "python",
   "nbconvert_exporter": "python",
   "pygments_lexer": "ipython3",
   "version": "3.7.5"
  }
 },
 "nbformat": 4,
 "nbformat_minor": 2
}
