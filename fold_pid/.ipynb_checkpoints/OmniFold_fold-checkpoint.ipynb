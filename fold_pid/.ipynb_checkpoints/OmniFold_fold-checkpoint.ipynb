{
 "cells": [
  {
   "cell_type": "markdown",
   "metadata": {},
   "source": [
    "# OmniFold Demo CLAS6\n",
    "\n",
    "In this tutorial, we showcase the OmniFold method for universally unfolding collider data using synthetic datasets of jets.\n",
    "\n",
    "Unfolding is the problem of estimating the particle-level (`truth`, this is basically what we want to find for our date) information from the measured detector-level data (`data`, the measurement). The detector is imperfect and smears the particle-level radiation pattern, giving rise to the need to unfold. OmniFold uses a synthetic dataset where the particle-level (`generation`) and detector-level (`simulation`) information are both known.\n",
    "\n",
    "OmniFold is an iterative unfolding procedure consisting of two steps.\n",
    "* First, the `simulation` is reweighted to the `data`.\n",
    "* Second, the previous `generation` is reweighted to the new `generation`.\n",
    "\n",
    "OmniFold results in a set of weights for the `generation` that reweight it to an estimate for the `truth` distribution."
   ]
  },
  {
   "cell_type": "markdown",
   "metadata": {},
   "source": [
    "%pip install numpy\n",
    "%pip install matplotlib\n",
    "%pip install keras\n",
    "%pip install tensorflow\n",
    "%pip install energyflow\n",
    "%pip install uproot"
   ]
  },
  {
   "cell_type": "code",
   "execution_count": null,
   "metadata": {},
   "outputs": [],
   "source": [
    "# %pip install numpy \n",
    "# %pip install matplotlib \n",
    "# %pip install keras \n",
    "# %pip install tensorflow \n",
    "# %pip install energyflow\n",
    "# %pip install PyPDF2\n",
    "# %pip install uproot"
   ]
  },
  {
   "cell_type": "code",
   "execution_count": 2,
   "metadata": {},
   "outputs": [],
   "source": [
    "import sys\n",
    "import numpy as np\n",
    "import matplotlib.pyplot as plt\n",
    "import pandas as pd\n",
    "import energyflow as ef\n",
    "import energyflow.archs\n",
    "\n",
    "sys.path.append(\"../\")\n",
    "import omnifold\n",
    "import modplot\n",
    "# import ibu\n",
    "# import uproot\n"
   ]
  },
  {
   "cell_type": "markdown",
   "metadata": {},
   "source": [
    "### Plot Style"
   ]
  },
  {
   "cell_type": "code",
   "execution_count": 3,
   "metadata": {},
   "outputs": [],
   "source": [
    "plt.rcParams['figure.figsize'] = (4,4)\n",
    "plt.rcParams['figure.dpi'] = 120\n",
    "plt.rcParams['font.family'] = 'serif'"
   ]
  },
  {
   "cell_type": "code",
   "execution_count": 4,
   "metadata": {},
   "outputs": [],
   "source": [
    "names = ['pdg','pid_gen','pid_rec','cz_rec','cz_numu_rec','e_rec','e_numu_rec','cz_gen','e_gen','type','weight']"
   ]
  },
  {
   "cell_type": "code",
   "execution_count": 5,
   "metadata": {},
   "outputs": [],
   "source": [
    "input_data = pd.read_csv(\"/Users/wingyanma/Documents/GitHub/pisa/pisa_examples/resources/events/J23_all_events.csv\",\n",
    "                         names=names, header=0, index_col=[0])\n"
   ]
  },
  {
   "cell_type": "code",
   "execution_count": 5,
   "metadata": {},
   "outputs": [
    {
     "data": {
      "text/html": [
       "<div>\n",
       "<style scoped>\n",
       "    .dataframe tbody tr th:only-of-type {\n",
       "        vertical-align: middle;\n",
       "    }\n",
       "\n",
       "    .dataframe tbody tr th {\n",
       "        vertical-align: top;\n",
       "    }\n",
       "\n",
       "    .dataframe thead th {\n",
       "        text-align: right;\n",
       "    }\n",
       "</style>\n",
       "<table border=\"1\" class=\"dataframe\">\n",
       "  <thead>\n",
       "    <tr style=\"text-align: right;\">\n",
       "      <th></th>\n",
       "      <th>pdg</th>\n",
       "      <th>pid_gen</th>\n",
       "      <th>pid_rec</th>\n",
       "      <th>cz_rec</th>\n",
       "      <th>cz_numu_rec</th>\n",
       "      <th>e_rec</th>\n",
       "      <th>e_numu_rec</th>\n",
       "      <th>cz_gen</th>\n",
       "      <th>e_gen</th>\n",
       "      <th>type</th>\n",
       "      <th>weight</th>\n",
       "    </tr>\n",
       "  </thead>\n",
       "  <tbody>\n",
       "    <tr>\n",
       "      <th>0</th>\n",
       "      <td>14</td>\n",
       "      <td>numu</td>\n",
       "      <td>numu</td>\n",
       "      <td>0.494961</td>\n",
       "      <td>0.590685</td>\n",
       "      <td>0.853201</td>\n",
       "      <td>1.157009</td>\n",
       "      <td>0.855655</td>\n",
       "      <td>3.841143</td>\n",
       "      <td>1</td>\n",
       "      <td>1</td>\n",
       "    </tr>\n",
       "    <tr>\n",
       "      <th>1</th>\n",
       "      <td>14</td>\n",
       "      <td>numu</td>\n",
       "      <td>numu</td>\n",
       "      <td>0.274824</td>\n",
       "      <td>0.141403</td>\n",
       "      <td>4.300221</td>\n",
       "      <td>4.784906</td>\n",
       "      <td>0.113431</td>\n",
       "      <td>4.579452</td>\n",
       "      <td>1</td>\n",
       "      <td>1</td>\n",
       "    </tr>\n",
       "    <tr>\n",
       "      <th>2</th>\n",
       "      <td>14</td>\n",
       "      <td>numu</td>\n",
       "      <td>numu</td>\n",
       "      <td>0.242091</td>\n",
       "      <td>0.154218</td>\n",
       "      <td>2.578972</td>\n",
       "      <td>2.529813</td>\n",
       "      <td>0.404237</td>\n",
       "      <td>2.226287</td>\n",
       "      <td>1</td>\n",
       "      <td>1</td>\n",
       "    </tr>\n",
       "    <tr>\n",
       "      <th>3</th>\n",
       "      <td>14</td>\n",
       "      <td>numu</td>\n",
       "      <td>numu</td>\n",
       "      <td>-0.406088</td>\n",
       "      <td>-0.440340</td>\n",
       "      <td>2.419158</td>\n",
       "      <td>2.477218</td>\n",
       "      <td>-0.807746</td>\n",
       "      <td>2.606570</td>\n",
       "      <td>1</td>\n",
       "      <td>1</td>\n",
       "    </tr>\n",
       "    <tr>\n",
       "      <th>4</th>\n",
       "      <td>14</td>\n",
       "      <td>numu</td>\n",
       "      <td>numubar</td>\n",
       "      <td>0.597770</td>\n",
       "      <td>0.653224</td>\n",
       "      <td>3.485928</td>\n",
       "      <td>3.430741</td>\n",
       "      <td>0.187372</td>\n",
       "      <td>3.119193</td>\n",
       "      <td>1</td>\n",
       "      <td>1</td>\n",
       "    </tr>\n",
       "    <tr>\n",
       "      <th>...</th>\n",
       "      <td>...</td>\n",
       "      <td>...</td>\n",
       "      <td>...</td>\n",
       "      <td>...</td>\n",
       "      <td>...</td>\n",
       "      <td>...</td>\n",
       "      <td>...</td>\n",
       "      <td>...</td>\n",
       "      <td>...</td>\n",
       "      <td>...</td>\n",
       "      <td>...</td>\n",
       "    </tr>\n",
       "    <tr>\n",
       "      <th>94970</th>\n",
       "      <td>14</td>\n",
       "      <td>nc</td>\n",
       "      <td>nc</td>\n",
       "      <td>0.357342</td>\n",
       "      <td>0.369064</td>\n",
       "      <td>1.798511</td>\n",
       "      <td>2.144140</td>\n",
       "      <td>0.681854</td>\n",
       "      <td>4.422088</td>\n",
       "      <td>0</td>\n",
       "      <td>1</td>\n",
       "    </tr>\n",
       "    <tr>\n",
       "      <th>94971</th>\n",
       "      <td>-12</td>\n",
       "      <td>nc</td>\n",
       "      <td>nc</td>\n",
       "      <td>-0.290957</td>\n",
       "      <td>-0.492486</td>\n",
       "      <td>2.885988</td>\n",
       "      <td>3.517319</td>\n",
       "      <td>0.044246</td>\n",
       "      <td>5.999827</td>\n",
       "      <td>0</td>\n",
       "      <td>1</td>\n",
       "    </tr>\n",
       "    <tr>\n",
       "      <th>94972</th>\n",
       "      <td>12</td>\n",
       "      <td>nc</td>\n",
       "      <td>nc</td>\n",
       "      <td>-0.570296</td>\n",
       "      <td>-0.735233</td>\n",
       "      <td>1.708040</td>\n",
       "      <td>1.500363</td>\n",
       "      <td>-0.395516</td>\n",
       "      <td>2.657809</td>\n",
       "      <td>0</td>\n",
       "      <td>1</td>\n",
       "    </tr>\n",
       "    <tr>\n",
       "      <th>94973</th>\n",
       "      <td>14</td>\n",
       "      <td>nc</td>\n",
       "      <td>nc</td>\n",
       "      <td>-0.072436</td>\n",
       "      <td>-0.063474</td>\n",
       "      <td>4.060598</td>\n",
       "      <td>4.322109</td>\n",
       "      <td>-0.026144</td>\n",
       "      <td>7.631851</td>\n",
       "      <td>0</td>\n",
       "      <td>1</td>\n",
       "    </tr>\n",
       "    <tr>\n",
       "      <th>94974</th>\n",
       "      <td>14</td>\n",
       "      <td>nc</td>\n",
       "      <td>numubar</td>\n",
       "      <td>0.540447</td>\n",
       "      <td>0.344140</td>\n",
       "      <td>2.538012</td>\n",
       "      <td>2.149151</td>\n",
       "      <td>0.118027</td>\n",
       "      <td>2.327914</td>\n",
       "      <td>0</td>\n",
       "      <td>1</td>\n",
       "    </tr>\n",
       "  </tbody>\n",
       "</table>\n",
       "<p>94975 rows × 11 columns</p>\n",
       "</div>"
      ],
      "text/plain": [
       "       pdg pid_gen  pid_rec    cz_rec  cz_numu_rec     e_rec  e_numu_rec  \\\n",
       "0       14    numu     numu  0.494961     0.590685  0.853201    1.157009   \n",
       "1       14    numu     numu  0.274824     0.141403  4.300221    4.784906   \n",
       "2       14    numu     numu  0.242091     0.154218  2.578972    2.529813   \n",
       "3       14    numu     numu -0.406088    -0.440340  2.419158    2.477218   \n",
       "4       14    numu  numubar  0.597770     0.653224  3.485928    3.430741   \n",
       "...    ...     ...      ...       ...          ...       ...         ...   \n",
       "94970   14      nc       nc  0.357342     0.369064  1.798511    2.144140   \n",
       "94971  -12      nc       nc -0.290957    -0.492486  2.885988    3.517319   \n",
       "94972   12      nc       nc -0.570296    -0.735233  1.708040    1.500363   \n",
       "94973   14      nc       nc -0.072436    -0.063474  4.060598    4.322109   \n",
       "94974   14      nc  numubar  0.540447     0.344140  2.538012    2.149151   \n",
       "\n",
       "         cz_gen     e_gen  type  weight  \n",
       "0      0.855655  3.841143     1       1  \n",
       "1      0.113431  4.579452     1       1  \n",
       "2      0.404237  2.226287     1       1  \n",
       "3     -0.807746  2.606570     1       1  \n",
       "4      0.187372  3.119193     1       1  \n",
       "...         ...       ...   ...     ...  \n",
       "94970  0.681854  4.422088     0       1  \n",
       "94971  0.044246  5.999827     0       1  \n",
       "94972 -0.395516  2.657809     0       1  \n",
       "94973 -0.026144  7.631851     0       1  \n",
       "94974  0.118027  2.327914     0       1  \n",
       "\n",
       "[94975 rows x 11 columns]"
      ]
     },
     "execution_count": 5,
     "metadata": {},
     "output_type": "execute_result"
    }
   ],
   "source": [
    "input_data"
   ]
  },
  {
   "cell_type": "code",
   "execution_count": 6,
   "metadata": {},
   "outputs": [],
   "source": [
    "new_label = {\"pid_gen\": {\"numu\": 0, \"numubar\": 1, \"nue\": 2, \"nuebar\": 3, \"nc\": 4}}\n",
    "input_data.replace(new_label , inplace = True)\n",
    "new_label = {\"pid_rec\": {\"numu\": 0, \"numubar\": 1, \"nue\": 2, \"nuebar\": 3, \"nc\": 4}}\n",
    "input_data.replace(new_label , inplace = True)\n",
    "theta_rec = np.arccos(input_data['cz_rec'])/np.pi*180.\n",
    "theta_gen = np.arccos(input_data['cz_gen'])/np.pi*180.\n",
    "\n",
    "input_data['theta_rec'] = theta_rec\n",
    "input_data['theta_gen'] = theta_gen"
   ]
  },
  {
   "cell_type": "code",
   "execution_count": 7,
   "metadata": {},
   "outputs": [
    {
     "data": {
      "text/plain": [
       "(0.4546659936491172, 179.73634887223196)"
      ]
     },
     "execution_count": 7,
     "metadata": {},
     "output_type": "execute_result"
    }
   ],
   "source": [
    "min(input_data['theta_gen']), max(input_data['theta_gen'])"
   ]
  },
  {
   "cell_type": "code",
   "execution_count": 8,
   "metadata": {},
   "outputs": [],
   "source": [
    "sim = input_data.sample(frac=0.7, random_state=1)\n",
    "idx = sim.index\n",
    "data = input_data[~input_data.index.isin(idx)]\n",
    "\n",
    "datasets = {'simul':sim,'data':data}"
   ]
  },
  {
   "cell_type": "code",
   "execution_count": 9,
   "metadata": {
    "scrolled": false
   },
   "outputs": [],
   "source": [
    "# A dictionary of the dictionaries \n",
    "datasets = {'simul':sim,'data':data}"
   ]
  },
  {
   "cell_type": "code",
   "execution_count": 10,
   "metadata": {},
   "outputs": [
    {
     "data": {
      "text/html": [
       "<div>\n",
       "<style scoped>\n",
       "    .dataframe tbody tr th:only-of-type {\n",
       "        vertical-align: middle;\n",
       "    }\n",
       "\n",
       "    .dataframe tbody tr th {\n",
       "        vertical-align: top;\n",
       "    }\n",
       "\n",
       "    .dataframe thead th {\n",
       "        text-align: right;\n",
       "    }\n",
       "</style>\n",
       "<table border=\"1\" class=\"dataframe\">\n",
       "  <thead>\n",
       "    <tr style=\"text-align: right;\">\n",
       "      <th></th>\n",
       "      <th>pdg</th>\n",
       "      <th>pid_gen</th>\n",
       "      <th>pid_rec</th>\n",
       "      <th>cz_rec</th>\n",
       "      <th>cz_numu_rec</th>\n",
       "      <th>e_rec</th>\n",
       "      <th>e_numu_rec</th>\n",
       "      <th>cz_gen</th>\n",
       "      <th>e_gen</th>\n",
       "      <th>type</th>\n",
       "      <th>weight</th>\n",
       "      <th>theta_rec</th>\n",
       "      <th>theta_gen</th>\n",
       "    </tr>\n",
       "  </thead>\n",
       "  <tbody>\n",
       "    <tr>\n",
       "      <th>0</th>\n",
       "      <td>14</td>\n",
       "      <td>0</td>\n",
       "      <td>0</td>\n",
       "      <td>0.494961</td>\n",
       "      <td>0.590685</td>\n",
       "      <td>0.853201</td>\n",
       "      <td>1.157009</td>\n",
       "      <td>0.855655</td>\n",
       "      <td>3.841143</td>\n",
       "      <td>1</td>\n",
       "      <td>1</td>\n",
       "      <td>60.332831</td>\n",
       "      <td>31.167860</td>\n",
       "    </tr>\n",
       "    <tr>\n",
       "      <th>5</th>\n",
       "      <td>14</td>\n",
       "      <td>0</td>\n",
       "      <td>0</td>\n",
       "      <td>-0.141743</td>\n",
       "      <td>-0.247919</td>\n",
       "      <td>1.386829</td>\n",
       "      <td>1.466295</td>\n",
       "      <td>-0.289032</td>\n",
       "      <td>1.385311</td>\n",
       "      <td>1</td>\n",
       "      <td>1</td>\n",
       "      <td>98.148747</td>\n",
       "      <td>106.800032</td>\n",
       "    </tr>\n",
       "    <tr>\n",
       "      <th>7</th>\n",
       "      <td>14</td>\n",
       "      <td>0</td>\n",
       "      <td>0</td>\n",
       "      <td>0.563811</td>\n",
       "      <td>0.571079</td>\n",
       "      <td>2.315544</td>\n",
       "      <td>2.056042</td>\n",
       "      <td>0.465275</td>\n",
       "      <td>2.145338</td>\n",
       "      <td>1</td>\n",
       "      <td>1</td>\n",
       "      <td>55.680249</td>\n",
       "      <td>62.271961</td>\n",
       "    </tr>\n",
       "    <tr>\n",
       "      <th>9</th>\n",
       "      <td>14</td>\n",
       "      <td>0</td>\n",
       "      <td>0</td>\n",
       "      <td>0.676379</td>\n",
       "      <td>0.882732</td>\n",
       "      <td>0.716852</td>\n",
       "      <td>0.828296</td>\n",
       "      <td>0.954780</td>\n",
       "      <td>1.034004</td>\n",
       "      <td>1</td>\n",
       "      <td>1</td>\n",
       "      <td>47.438700</td>\n",
       "      <td>17.296348</td>\n",
       "    </tr>\n",
       "    <tr>\n",
       "      <th>15</th>\n",
       "      <td>14</td>\n",
       "      <td>0</td>\n",
       "      <td>0</td>\n",
       "      <td>0.880363</td>\n",
       "      <td>0.888954</td>\n",
       "      <td>0.852772</td>\n",
       "      <td>0.897762</td>\n",
       "      <td>0.684703</td>\n",
       "      <td>0.960108</td>\n",
       "      <td>1</td>\n",
       "      <td>1</td>\n",
       "      <td>28.313868</td>\n",
       "      <td>46.787779</td>\n",
       "    </tr>\n",
       "    <tr>\n",
       "      <th>...</th>\n",
       "      <td>...</td>\n",
       "      <td>...</td>\n",
       "      <td>...</td>\n",
       "      <td>...</td>\n",
       "      <td>...</td>\n",
       "      <td>...</td>\n",
       "      <td>...</td>\n",
       "      <td>...</td>\n",
       "      <td>...</td>\n",
       "      <td>...</td>\n",
       "      <td>...</td>\n",
       "      <td>...</td>\n",
       "      <td>...</td>\n",
       "    </tr>\n",
       "    <tr>\n",
       "      <th>94959</th>\n",
       "      <td>12</td>\n",
       "      <td>4</td>\n",
       "      <td>4</td>\n",
       "      <td>-0.321601</td>\n",
       "      <td>-0.338514</td>\n",
       "      <td>2.788977</td>\n",
       "      <td>3.256436</td>\n",
       "      <td>-0.214398</td>\n",
       "      <td>9.492567</td>\n",
       "      <td>0</td>\n",
       "      <td>1</td>\n",
       "      <td>108.759751</td>\n",
       "      <td>102.380208</td>\n",
       "    </tr>\n",
       "    <tr>\n",
       "      <th>94961</th>\n",
       "      <td>-14</td>\n",
       "      <td>4</td>\n",
       "      <td>4</td>\n",
       "      <td>-0.162246</td>\n",
       "      <td>0.022859</td>\n",
       "      <td>2.258630</td>\n",
       "      <td>2.477290</td>\n",
       "      <td>-0.299260</td>\n",
       "      <td>5.933968</td>\n",
       "      <td>0</td>\n",
       "      <td>1</td>\n",
       "      <td>99.337262</td>\n",
       "      <td>107.413176</td>\n",
       "    </tr>\n",
       "    <tr>\n",
       "      <th>94967</th>\n",
       "      <td>-14</td>\n",
       "      <td>4</td>\n",
       "      <td>4</td>\n",
       "      <td>0.054821</td>\n",
       "      <td>-0.543451</td>\n",
       "      <td>0.636991</td>\n",
       "      <td>0.705622</td>\n",
       "      <td>-0.269792</td>\n",
       "      <td>10.802971</td>\n",
       "      <td>0</td>\n",
       "      <td>1</td>\n",
       "      <td>86.857431</td>\n",
       "      <td>105.651885</td>\n",
       "    </tr>\n",
       "    <tr>\n",
       "      <th>94970</th>\n",
       "      <td>14</td>\n",
       "      <td>4</td>\n",
       "      <td>4</td>\n",
       "      <td>0.357342</td>\n",
       "      <td>0.369064</td>\n",
       "      <td>1.798511</td>\n",
       "      <td>2.144140</td>\n",
       "      <td>0.681854</td>\n",
       "      <td>4.422088</td>\n",
       "      <td>0</td>\n",
       "      <td>1</td>\n",
       "      <td>69.062954</td>\n",
       "      <td>47.011304</td>\n",
       "    </tr>\n",
       "    <tr>\n",
       "      <th>94974</th>\n",
       "      <td>14</td>\n",
       "      <td>4</td>\n",
       "      <td>1</td>\n",
       "      <td>0.540447</td>\n",
       "      <td>0.344140</td>\n",
       "      <td>2.538012</td>\n",
       "      <td>2.149151</td>\n",
       "      <td>0.118027</td>\n",
       "      <td>2.327914</td>\n",
       "      <td>0</td>\n",
       "      <td>1</td>\n",
       "      <td>57.285933</td>\n",
       "      <td>83.221733</td>\n",
       "    </tr>\n",
       "  </tbody>\n",
       "</table>\n",
       "<p>28493 rows × 13 columns</p>\n",
       "</div>"
      ],
      "text/plain": [
       "       pdg  pid_gen  pid_rec    cz_rec  cz_numu_rec     e_rec  e_numu_rec  \\\n",
       "0       14        0        0  0.494961     0.590685  0.853201    1.157009   \n",
       "5       14        0        0 -0.141743    -0.247919  1.386829    1.466295   \n",
       "7       14        0        0  0.563811     0.571079  2.315544    2.056042   \n",
       "9       14        0        0  0.676379     0.882732  0.716852    0.828296   \n",
       "15      14        0        0  0.880363     0.888954  0.852772    0.897762   \n",
       "...    ...      ...      ...       ...          ...       ...         ...   \n",
       "94959   12        4        4 -0.321601    -0.338514  2.788977    3.256436   \n",
       "94961  -14        4        4 -0.162246     0.022859  2.258630    2.477290   \n",
       "94967  -14        4        4  0.054821    -0.543451  0.636991    0.705622   \n",
       "94970   14        4        4  0.357342     0.369064  1.798511    2.144140   \n",
       "94974   14        4        1  0.540447     0.344140  2.538012    2.149151   \n",
       "\n",
       "         cz_gen      e_gen  type  weight   theta_rec   theta_gen  \n",
       "0      0.855655   3.841143     1       1   60.332831   31.167860  \n",
       "5     -0.289032   1.385311     1       1   98.148747  106.800032  \n",
       "7      0.465275   2.145338     1       1   55.680249   62.271961  \n",
       "9      0.954780   1.034004     1       1   47.438700   17.296348  \n",
       "15     0.684703   0.960108     1       1   28.313868   46.787779  \n",
       "...         ...        ...   ...     ...         ...         ...  \n",
       "94959 -0.214398   9.492567     0       1  108.759751  102.380208  \n",
       "94961 -0.299260   5.933968     0       1   99.337262  107.413176  \n",
       "94967 -0.269792  10.802971     0       1   86.857431  105.651885  \n",
       "94970  0.681854   4.422088     0       1   69.062954   47.011304  \n",
       "94974  0.118027   2.327914     0       1   57.285933   83.221733  \n",
       "\n",
       "[28493 rows x 13 columns]"
      ]
     },
     "execution_count": 10,
     "metadata": {},
     "output_type": "execute_result"
    }
   ],
   "source": [
    "data"
   ]
  },
  {
   "cell_type": "code",
   "execution_count": 11,
   "metadata": {},
   "outputs": [
    {
     "name": "stdout",
     "output_type": "stream",
     "text": [
      "{'simul':        pdg  pid_gen  pid_rec    cz_rec  cz_numu_rec     e_rec  e_numu_rec  \\\n",
      "91051  -14        4        4 -0.171066    -0.058375  4.216917    4.948274   \n",
      "6863    14        0        0 -0.101305    -0.265679  0.705177    0.671842   \n",
      "61143   12        2        0  0.521957     0.288055  0.854483    0.832248   \n",
      "74532   12        2        2 -0.312521    -0.190026  1.165914    1.154446   \n",
      "90653   14        4        4 -0.516587    -0.547464  3.307557    3.897402   \n",
      "...    ...      ...      ...       ...          ...       ...         ...   \n",
      "91973  -14        4        4 -0.537341    -0.785293  1.350644    1.577565   \n",
      "15708   14        0        0  0.742337     0.804397  2.541289    2.220261   \n",
      "42905  -14        1        1 -0.219705    -0.408613  4.329014    4.243622   \n",
      "69883   12        2        2  0.593715     0.586638  2.914048    3.176288   \n",
      "7627    14        0        4 -0.660777    -0.715028  1.438600    1.629151   \n",
      "\n",
      "         cz_gen      e_gen  type  weight   theta_rec   theta_gen  \n",
      "91051  0.016796  15.228111     0       1   99.849797   89.037617  \n",
      "6863   0.005929   0.698152     1       1   95.814305   89.660284  \n",
      "61143 -0.263994   1.230775     1       1   58.536357  105.307189  \n",
      "74532 -0.870405   0.944739     1       1  108.211199  150.505726  \n",
      "90653 -0.800190   6.719989     0       1  121.103620  143.148260  \n",
      "...         ...        ...   ...     ...         ...         ...  \n",
      "91973 -0.824938  14.734999     0       1  122.502809  145.582164  \n",
      "15708  0.720567   2.112979     1       1   42.069099   43.898648  \n",
      "42905 -0.073726   3.929028     1       1  102.691723   94.228045  \n",
      "69883  0.423870   2.837134     1       1   53.578902   64.920834  \n",
      "7627  -0.429904   1.533050     1       1  131.359191  115.461451  \n",
      "\n",
      "[66482 rows x 13 columns], 'data':        pdg  pid_gen  pid_rec    cz_rec  cz_numu_rec     e_rec  e_numu_rec  \\\n",
      "0       14        0        0  0.494961     0.590685  0.853201    1.157009   \n",
      "5       14        0        0 -0.141743    -0.247919  1.386829    1.466295   \n",
      "7       14        0        0  0.563811     0.571079  2.315544    2.056042   \n",
      "9       14        0        0  0.676379     0.882732  0.716852    0.828296   \n",
      "15      14        0        0  0.880363     0.888954  0.852772    0.897762   \n",
      "...    ...      ...      ...       ...          ...       ...         ...   \n",
      "94959   12        4        4 -0.321601    -0.338514  2.788977    3.256436   \n",
      "94961  -14        4        4 -0.162246     0.022859  2.258630    2.477290   \n",
      "94967  -14        4        4  0.054821    -0.543451  0.636991    0.705622   \n",
      "94970   14        4        4  0.357342     0.369064  1.798511    2.144140   \n",
      "94974   14        4        1  0.540447     0.344140  2.538012    2.149151   \n",
      "\n",
      "         cz_gen      e_gen  type  weight   theta_rec   theta_gen  \n",
      "0      0.855655   3.841143     1       1   60.332831   31.167860  \n",
      "5     -0.289032   1.385311     1       1   98.148747  106.800032  \n",
      "7      0.465275   2.145338     1       1   55.680249   62.271961  \n",
      "9      0.954780   1.034004     1       1   47.438700   17.296348  \n",
      "15     0.684703   0.960108     1       1   28.313868   46.787779  \n",
      "...         ...        ...   ...     ...         ...         ...  \n",
      "94959 -0.214398   9.492567     0       1  108.759751  102.380208  \n",
      "94961 -0.299260   5.933968     0       1   99.337262  107.413176  \n",
      "94967 -0.269792  10.802971     0       1   86.857431  105.651885  \n",
      "94970  0.681854   4.422088     0       1   69.062954   47.011304  \n",
      "94974  0.118027   2.327914     0       1   57.285933   83.221733  \n",
      "\n",
      "[28493 rows x 13 columns]}\n"
     ]
    }
   ],
   "source": [
    "# if you want to check the format run this\n",
    "print(datasets) "
   ]
  },
  {
   "cell_type": "markdown",
   "metadata": {},
   "source": [
    "## Specifying the Unfolding Problem\n",
    "\n",
    "OmniFold requires particle-level event generators as well as a faithful simulation of the detector, both are in HS. "
   ]
  },
  {
   "cell_type": "code",
   "execution_count": 12,
   "metadata": {},
   "outputs": [],
   "source": [
    "# choose what is MC(MonteCarlo/simulations) and Data in this context\n",
    "synthetic, nature = datasets['simul'], datasets['data']"
   ]
  },
  {
   "cell_type": "markdown",
   "metadata": {},
   "source": [
    "We also have to specify `itnum`: how many iterations of the unfolding procedure we want to do.\n",
    "\n",
    "**Customize**: Change `itnum` to your desired number of unfolding iterations."
   ]
  },
  {
   "cell_type": "code",
   "execution_count": 13,
   "metadata": {},
   "outputs": [],
   "source": [
    "# how many iterations of the unfolding process\n",
    "itnum = 3"
   ]
  },
  {
   "cell_type": "markdown",
   "metadata": {},
   "source": [
    "There are three flavors of OmniFold. In order of increasing sophistication, they are:\n",
    "* **UniFold**: Represent the jet as a single observable.\n",
    "* **MultiFold**: Represent the jet as multiple observables.\n",
    "* **OmniFold**: Represent the jet as a set of particles.\n",
    "\n",
    "i am not shure if this is omnifold or multifold or what is the difference"
   ]
  },
  {
   "cell_type": "code",
   "execution_count": 14,
   "metadata": {},
   "outputs": [],
   "source": [
    "# Phase space of the correction\n",
    "# obs_multifold = ['pid', 'theta', 'e'] \n",
    "obs_multifold = ['theta', 'e'] "
   ]
  },
  {
   "cell_type": "markdown",
   "metadata": {},
   "source": [
    "The observables are already computed in the samples. We will read them in as an observable dictionary `obs` and also specify histogram style information.\n",
    "\n",
    "**Customize**: Add entries to `obs` to define your own observables to be used in MultiFold or to see the unfolding performance on them."
   ]
  },
  {
   "cell_type": "code",
   "execution_count": 15,
   "metadata": {},
   "outputs": [],
   "source": [
    "# a dictionary to hold information about the observables\n",
    "obs = {}\n",
    "\n",
    "# obs.setdefault('pid', {}).update({\n",
    "#     'func': lambda dset, ptype: dset['pid_' + ptype],\n",
    "#     'nbins_det': 5, 'nbins_mc': 5,\n",
    "#     'xlim': (-0.5, 4.5), 'ylim': (0, 1.5),\n",
    "#     'xlabel': r'PID', 'symbol': r'PID',\n",
    "#     'ylabel': r'Normalized Cross Section ',\n",
    "#     'stamp_xy': (0.425, 0.65),\n",
    "# })\n",
    "\n",
    "obs.setdefault('theta', {}).update({\n",
    "    'func': lambda dset, ptype: dset['theta_'+ ptype],\n",
    "    'nbins_det': 18, 'nbins_mc': 18,\n",
    "    'xlim': (0., 180.), 'ylim': (0, 0.02),\n",
    "#     'xlabel': r'$\\nu$[$GeV$]', 'symbol': r'$\\nu$',\n",
    "    'xlabel': r'$\\theta$', 'symbol': r'$\\theta$',\n",
    "#     'ylabel': r'Normalized Cross Section',\n",
    "    'stamp_xy': (0.42, 0.65),\n",
    "})\n",
    "\n",
    "obs.setdefault('e', {}).update({ \n",
    "    'func': lambda dset, ptype: dset['e_' + ptype],\n",
    "    'nbins_det': 20, 'nbins_mc': 20,\n",
    "    'xlim': (0., 20.), 'ylim': (0, 0.5),\n",
    "#     'xlabel': r'$Pt^2$[GeV]', 'symbol': r'$Pt^2$',\n",
    "    'xlabel': r'$Ee$[GeV]', 'symbol': r'$Ee$',\n",
    "#     'ylabel': r'Normalized Cross Section',\n",
    "    'stamp_xy': (0.41, 0.92),\n",
    "    'legend_loc': 'upper right', 'legend_ncol': 1,\n",
    "})\n",
    "\n",
    "\n",
    "# additional histogram and plot style information\n",
    "hist_style = {'histtype': 'step', 'density': True, 'lw': 1, 'zorder': 2}\n",
    "gen_style = {'linestyle': '-', 'color': 'blue', 'lw': 1.15, 'label': 'Gen.'}\n",
    "truth_style = {'step': 'mid', 'edgecolor': 'green', 'facecolor': (0.75, 0.875, 0.75),\n",
    "               'lw': 1.25, 'zorder': 0, 'label': '``Truth\\\"'}\n",
    "ibu_style = {'ls': '-', 'marker': 'o', 'ms': 2.5, 'color': 'gray', 'zorder': 1}\n",
    "omnifold_style = {'ls': 'dashed', 'marker': 's', 'ms': 2.5, 'color': 'tab:red', 'zorder': 3}"
   ]
  },
  {
   "cell_type": "markdown",
   "metadata": {},
   "source": [
    "Now all that remains is to get the values of the specified observables and compute the histograms with the specified binnings. As an unfolding benchmark, we also obtain the unfolding results of Iterative Bayesian Unfolding (IBU) as implemented in `ibu.py`. The following cell takes care of all of these aspects."
   ]
  },
  {
   "cell_type": "code",
   "execution_count": 16,
   "metadata": {},
   "outputs": [
    {
     "name": "stdout",
     "output_type": "stream",
     "text": [
      "Done with theta\n",
      "Done with e\n"
     ]
    }
   ],
   "source": [
    "# calculate quantities to be stored in obs\n",
    "for obkey,ob in obs.items():\n",
    "    \n",
    "    # Add the array with the data to the las dictionary\n",
    "    # calculate observable for GEN, (REC)SIM, DATA, and TRUE\n",
    "    ob['genobs'], ob['simobs'] = ob['func'](synthetic, 'gen'), ob['func'](synthetic, 'rec')\n",
    "    ob['truthobs'], ob['dataobs'] = ob['func'](nature, 'gen'), ob['func'](nature, 'rec')\n",
    "\n",
    "    # setup bins\n",
    "    # ob['rec/det or gen/mc'] = np.linspace(min val, max val, nbins + 1)\n",
    "    ob['bins_det'] = np.linspace(ob['xlim'][0], ob['xlim'][1], ob['nbins_det']+1)\n",
    "    ob['bins_mc'] = np.linspace(ob['xlim'][0], ob['xlim'][1], ob['nbins_mc']+1)\n",
    "    # = np.linspace(bin-array except the last number, bin-array except the first number) all array vals divided by 2\n",
    "    ob['midbins_det'] = (ob['bins_det'][:-1] + ob['bins_det'][1:])/2\n",
    "    ob['midbins_mc'] = (ob['bins_mc'][:-1] + ob['bins_mc'][1:])/2\n",
    "    # Second val - first val = width\n",
    "    ob['binwidth_det'] = ob['bins_det'][1] - ob['bins_det'][0]\n",
    "    ob['binwidth_mc'] = ob['bins_mc'][1] - ob['bins_mc'][0]\n",
    "    \n",
    "    # get the histograms of GEN, DATA, and TRUTH level observables\n",
    "    #  np.histogram(data Array , binning array, density=True(this normalize the histogram))\n",
    "    # the [0] is to select the first return object of the method,which is the number of event per bin\n",
    "    # in this case normalized beacause density=True\n",
    "    ob['genobs_hist'] = np.histogram(ob['genobs'], bins=ob['bins_mc'], density=True)[0]\n",
    "    ob['data_hist'] = np.histogram(ob['dataobs'], bins=ob['bins_det'], density=True)[0]\n",
    "    # modplot.calc_hist(Data array, binning array,  this just select if the bigger or equal of the binning selection \n",
    "    # goes in the right or in the left)\n",
    "    # [:2] this returns the first 2 object created by the method that  is a histgram and the errors \n",
    "    ob['truth_hist'], ob['truth_hist_unc'] = modplot.calc_hist(ob['truthobs'],\n",
    "                                                               bins=ob['bins_mc'], density=True)[:2]\n",
    "\n",
    "    \n",
    "\n",
    "    # compute (and normalize) the response matrix between GEN and SIM\n",
    "#     ob['response'] = np.histogram2d(ob['simobs'], ob['genobs'], bins=(ob['bins_det'], ob['bins_mc']))[0]\n",
    "#     ob['response'] /= (ob['response'].sum(axis=0) + 10**-50)\n",
    "#     # perform iterative Bayesian unfolding\n",
    "#     ob['ibu_phis'] = ibu.ibu(ob['data_hist'], ob['response'], ob['genobs_hist'], \n",
    "#                          ob['binwidth_det'], ob['binwidth_mc'], it=itnum)\n",
    "#     ob['ibu_phi_unc'] = ibu.ibu_unc(ob, it=itnum, nresamples=25)\n",
    "    \n",
    "    print('Done with', obkey)"
   ]
  },
  {
   "cell_type": "markdown",
   "metadata": {},
   "source": [
    "## OmniFold\n",
    "\n",
    "Now it's time to set up for the OmniFold procedure and do the unfolding!  \n",
    "\n",
    "Here, we choose model sizes and training parameters that default to a quick training (~5 min). Even with this simplified model and training, we will closely reproduce the full results of the paper.\n",
    "\n",
    "**Customize**: Change the model layer sizes or training parameters."
   ]
  },
  {
   "cell_type": "code",
   "execution_count": 17,
   "metadata": {
    "scrolled": false
   },
   "outputs": [],
   "source": [
    "# How many layers and neurons for each layer to use in the deep learning\n",
    "model_layer_sizes = [100, 100]\n",
    "# model_layer_sizes = [100, 100, 100] # use this for the full network size\n",
    "\n",
    "# set up the array of data/simulation detector-level observables\n",
    "# X are the features/variables\n",
    "X_det = np.asarray([np.concatenate((obs[obkey]['dataobs'], obs[obkey]['simobs'])) for obkey in obs_multifold]).T\n",
    "# Y are labels(variable that you want to know)/ weights\n",
    "Y_det = ef.utils.to_categorical(np.concatenate((np.ones(len(obs['e']['dataobs'])), \n",
    "                                                np.zeros(len(obs['e']['simobs'])))))\n",
    "\n",
    "# set up the array of generation particle-level observables\n",
    "X_gen = np.asarray([np.concatenate((obs[obkey]['genobs'], obs[obkey]['genobs'])) for obkey in obs_multifold]).T\n",
    "Y_gen = ef.utils.to_categorical(np.concatenate((np.ones(len(obs['e']['genobs'])), \n",
    "                                                np.zeros(len(obs['e']['genobs'])))))\n",
    "\n",
    "# standardize the inputs (variables- mean)/standar deviation\n",
    "X_det = (X_det - np.mean(X_det, axis=0))/np.std(X_det, axis=0)\n",
    "X_gen = (X_gen - np.mean(X_gen, axis=0))/np.std(X_gen, axis=0)\n",
    "\n",
    "# Specify the training parameters\n",
    "# model parameters for the Step 1 network\n",
    "det_args = {'input_dim': len(obs_multifold), 'dense_sizes': model_layer_sizes,\n",
    "            'patience': 10, 'filepath': 'Step1_{}', 'save_weights_only': False, \n",
    "            'modelcheck_opts': {'save_best_only': True, 'verbose': 1}}\n",
    "\n",
    "# model parameters for the Step 2 network\n",
    "mc_args = {'input_dim': len(obs_multifold), 'dense_sizes': model_layer_sizes, \n",
    "           'patience': 10, 'filepath': 'Step2_{}', 'save_weights_only': False, \n",
    "           'modelcheck_opts': {'save_best_only': True, 'verbose': 1}}\n",
    "\n",
    "# general training parameters\n",
    "# Batch_size is the number of examples used to train the data at same time(it used all but not all at same time)\n",
    "# epoch i the number of steam\n",
    "# i am not sure about the last two thing hahha\n",
    "fitargs = {'batch_size': 500, 'epochs': 2, 'verbose': 1}\n",
    "#fitargs = {'batch_size': 500, 'epochs': 100, 'verbose': 1} # use this for a full training\n",
    "\n",
    "# reweight the sim and data to have the same total weight to begin with\n",
    "ndata, nsim = np.count_nonzero(Y_det[:,1]), np.count_nonzero(Y_det[:,0])\n",
    "wdata = np.ones(ndata)\n",
    "winit = ndata/nsim*np.ones(nsim)"
   ]
  },
  {
   "cell_type": "code",
   "execution_count": 18,
   "metadata": {},
   "outputs": [
    {
     "name": "stdout",
     "output_type": "stream",
     "text": [
      "[[-0.74461613 -0.66298577]\n",
      " [ 0.30847688 -0.40176944]\n",
      " [-0.87418066  0.05284653]\n",
      " ...\n",
      " [ 0.4349891   1.03846154]\n",
      " [-0.93269871  0.34582032]\n",
      " [ 1.23331726 -0.37642664]]\n"
     ]
    }
   ],
   "source": [
    "print(X_det)"
   ]
  },
  {
   "cell_type": "markdown",
   "metadata": {},
   "source": [
    "The `omnifold` method within `omnifold.py` takes all the relevant information and performs the unfolding process for the specified number of iterations."
   ]
  },
  {
   "cell_type": "code",
   "execution_count": 19,
   "metadata": {},
   "outputs": [
    {
     "name": "stdout",
     "output_type": "stream",
     "text": [
      "Model: \"model\"\n",
      "_________________________________________________________________\n",
      " Layer (type)                Output Shape              Param #   \n",
      "=================================================================\n",
      " input (InputLayer)          [(None, 2)]               0         \n",
      "                                                                 \n",
      " dense_0 (Dense)             (None, 100)               300       \n",
      "                                                                 \n",
      " activation (Activation)     (None, 100)               0         \n",
      "                                                                 \n",
      " dense_1 (Dense)             (None, 100)               10100     \n",
      "                                                                 \n",
      " activation_1 (Activation)   (None, 100)               0         \n",
      "                                                                 \n",
      " output (Dense)              (None, 2)                 202       \n",
      "                                                                 \n",
      " activation_2 (Activation)   (None, 2)                 0         \n",
      "                                                                 \n",
      "=================================================================\n",
      "Total params: 10,602\n",
      "Trainable params: 10,602\n",
      "Non-trainable params: 0\n",
      "_________________________________________________________________\n",
      "Model: \"model_1\"\n",
      "_________________________________________________________________\n",
      " Layer (type)                Output Shape              Param #   \n",
      "=================================================================\n",
      " input (InputLayer)          [(None, 2)]               0         \n",
      "                                                                 \n",
      " dense_0 (Dense)             (None, 100)               300       \n",
      "                                                                 \n",
      " activation_3 (Activation)   (None, 100)               0         \n",
      "                                                                 \n",
      " dense_1 (Dense)             (None, 100)               10100     \n",
      "                                                                 \n",
      " activation_4 (Activation)   (None, 100)               0         \n",
      "                                                                 \n",
      " output (Dense)              (None, 2)                 202       \n",
      "                                                                 \n",
      " activation_5 (Activation)   (None, 2)                 0         \n",
      "                                                                 \n",
      "=================================================================\n",
      "Total params: 10,602\n",
      "Trainable params: 10,602\n",
      "Non-trainable params: 0\n",
      "_________________________________________________________________\n"
     ]
    },
    {
     "name": "stderr",
     "output_type": "stream",
     "text": [
      "2024-07-09 14:38:49.691631: I tensorflow/core/platform/cpu_feature_guard.cc:193] This TensorFlow binary is optimized with oneAPI Deep Neural Network Library (oneDNN) to use the following CPU instructions in performance-critical operations:  AVX2 FMA\n",
      "To enable them in other operations, rebuild TensorFlow with the appropriate compiler flags.\n"
     ]
    },
    {
     "name": "stdout",
     "output_type": "stream",
     "text": [
      "Epoch 1/2\n",
      "135/152 [=========================>....] - ETA: 0s - loss: 0.4265 - acc: 0.5204WARNING:tensorflow:`evaluate()` received a value for `sample_weight`, but `weighted_metrics` were not provided.  Did you mean to pass metrics to `weighted_metrics` in `compile()`?  If this is intentional you can pass `weighted_metrics=[]` to `compile()` in order to silence this warning.\n",
      "\n",
      "Epoch 1: val_loss improved from inf to 0.41858, saving model to Step1_0_Epoch-1\n"
     ]
    },
    {
     "name": "stderr",
     "output_type": "stream",
     "text": [
      "WARNING:absl:Found untraced functions such as _update_step_xla while saving (showing 1 of 1). These functions will not be directly callable after loading.\n"
     ]
    },
    {
     "name": "stdout",
     "output_type": "stream",
     "text": [
      "INFO:tensorflow:Assets written to: Step1_0_Epoch-1/assets\n"
     ]
    },
    {
     "name": "stderr",
     "output_type": "stream",
     "text": [
      "INFO:tensorflow:Assets written to: Step1_0_Epoch-1/assets\n"
     ]
    },
    {
     "name": "stdout",
     "output_type": "stream",
     "text": [
      "152/152 [==============================] - 5s 31ms/step - loss: 0.4256 - acc: 0.5235 - val_loss: 0.4186 - val_acc: 0.4425\n",
      "Epoch 2/2\n",
      "144/152 [===========================>..] - ETA: 0s - loss: 0.4175 - acc: 0.5219WARNING:tensorflow:`evaluate()` received a value for `sample_weight`, but `weighted_metrics` were not provided.  Did you mean to pass metrics to `weighted_metrics` in `compile()`?  If this is intentional you can pass `weighted_metrics=[]` to `compile()` in order to silence this warning.\n"
     ]
    },
    {
     "name": "stderr",
     "output_type": "stream",
     "text": [
      "WARNING:tensorflow:`evaluate()` received a value for `sample_weight`, but `weighted_metrics` were not provided.  Did you mean to pass metrics to `weighted_metrics` in `compile()`?  If this is intentional you can pass `weighted_metrics=[]` to `compile()` in order to silence this warning.\n"
     ]
    },
    {
     "name": "stdout",
     "output_type": "stream",
     "text": [
      "\n",
      "Epoch 2: val_loss improved from 0.41858 to 0.41726, saving model to Step1_0_Epoch-2\n"
     ]
    },
    {
     "name": "stderr",
     "output_type": "stream",
     "text": [
      "WARNING:absl:Found untraced functions such as _update_step_xla while saving (showing 1 of 1). These functions will not be directly callable after loading.\n"
     ]
    },
    {
     "name": "stdout",
     "output_type": "stream",
     "text": [
      "INFO:tensorflow:Assets written to: Step1_0_Epoch-2/assets\n"
     ]
    },
    {
     "name": "stderr",
     "output_type": "stream",
     "text": [
      "INFO:tensorflow:Assets written to: Step1_0_Epoch-2/assets\n"
     ]
    },
    {
     "name": "stdout",
     "output_type": "stream",
     "text": [
      "152/152 [==============================] - 1s 6ms/step - loss: 0.4177 - acc: 0.5180 - val_loss: 0.4173 - val_acc: 0.4162\n",
      "16/16 [==============================] - 0s 3ms/step\n",
      "4/4 [==============================] - 0s 3ms/step\n",
      "Epoch 1/2\n",
      "209/213 [============================>.] - ETA: 0s - loss: 0.3053 - acc: 0.4959WARNING:tensorflow:`evaluate()` received a value for `sample_weight`, but `weighted_metrics` were not provided.  Did you mean to pass metrics to `weighted_metrics` in `compile()`?  If this is intentional you can pass `weighted_metrics=[]` to `compile()` in order to silence this warning.\n"
     ]
    },
    {
     "name": "stderr",
     "output_type": "stream",
     "text": [
      "WARNING:tensorflow:`evaluate()` received a value for `sample_weight`, but `weighted_metrics` were not provided.  Did you mean to pass metrics to `weighted_metrics` in `compile()`?  If this is intentional you can pass `weighted_metrics=[]` to `compile()` in order to silence this warning.\n"
     ]
    },
    {
     "name": "stdout",
     "output_type": "stream",
     "text": [
      "\n",
      "Epoch 1: val_loss improved from inf to 0.30401, saving model to Step2_0_Epoch-1\n"
     ]
    },
    {
     "name": "stderr",
     "output_type": "stream",
     "text": [
      "WARNING:absl:Found untraced functions such as _update_step_xla while saving (showing 1 of 1). These functions will not be directly callable after loading.\n"
     ]
    },
    {
     "name": "stdout",
     "output_type": "stream",
     "text": [
      "INFO:tensorflow:Assets written to: Step2_0_Epoch-1/assets\n"
     ]
    },
    {
     "name": "stderr",
     "output_type": "stream",
     "text": [
      "INFO:tensorflow:Assets written to: Step2_0_Epoch-1/assets\n"
     ]
    },
    {
     "name": "stdout",
     "output_type": "stream",
     "text": [
      "213/213 [==============================] - 7s 32ms/step - loss: 0.3053 - acc: 0.4961 - val_loss: 0.3040 - val_acc: 0.5000\n",
      "Epoch 2/2\n",
      "185/213 [=========================>....] - ETA: 0s - loss: 0.3045 - acc: 0.4992WARNING:tensorflow:`evaluate()` received a value for `sample_weight`, but `weighted_metrics` were not provided.  Did you mean to pass metrics to `weighted_metrics` in `compile()`?  If this is intentional you can pass `weighted_metrics=[]` to `compile()` in order to silence this warning.\n"
     ]
    },
    {
     "name": "stderr",
     "output_type": "stream",
     "text": [
      "WARNING:tensorflow:`evaluate()` received a value for `sample_weight`, but `weighted_metrics` were not provided.  Did you mean to pass metrics to `weighted_metrics` in `compile()`?  If this is intentional you can pass `weighted_metrics=[]` to `compile()` in order to silence this warning.\n"
     ]
    },
    {
     "name": "stdout",
     "output_type": "stream",
     "text": [
      "\n",
      "Epoch 2: val_loss did not improve from 0.30401\n",
      "213/213 [==============================] - 0s 2ms/step - loss: 0.3044 - acc: 0.4983 - val_loss: 0.3044 - val_acc: 0.5000\n",
      "22/22 [==============================] - 0s 3ms/step\n",
      "6/6 [==============================] - 0s 3ms/step\n",
      "Model: \"model_2\"\n",
      "_________________________________________________________________\n",
      " Layer (type)                Output Shape              Param #   \n",
      "=================================================================\n",
      " input (InputLayer)          [(None, 2)]               0         \n",
      "                                                                 \n",
      " dense_0 (Dense)             (None, 100)               300       \n",
      "                                                                 \n",
      " activation_6 (Activation)   (None, 100)               0         \n",
      "                                                                 \n",
      " dense_1 (Dense)             (None, 100)               10100     \n",
      "                                                                 \n",
      " activation_7 (Activation)   (None, 100)               0         \n",
      "                                                                 \n",
      " output (Dense)              (None, 2)                 202       \n",
      "                                                                 \n",
      " activation_8 (Activation)   (None, 2)                 0         \n",
      "                                                                 \n",
      "=================================================================\n",
      "Total params: 10,602\n",
      "Trainable params: 10,602\n",
      "Non-trainable params: 0\n",
      "_________________________________________________________________\n",
      "Model: \"model_3\"\n",
      "_________________________________________________________________\n",
      " Layer (type)                Output Shape              Param #   \n",
      "=================================================================\n",
      " input (InputLayer)          [(None, 2)]               0         \n",
      "                                                                 \n",
      " dense_0 (Dense)             (None, 100)               300       \n",
      "                                                                 \n",
      " activation_9 (Activation)   (None, 100)               0         \n",
      "                                                                 \n",
      " dense_1 (Dense)             (None, 100)               10100     \n",
      "                                                                 \n",
      " activation_10 (Activation)  (None, 100)               0         \n",
      "                                                                 \n",
      " output (Dense)              (None, 2)                 202       \n",
      "                                                                 \n",
      " activation_11 (Activation)  (None, 2)                 0         \n",
      "                                                                 \n",
      "=================================================================\n",
      "Total params: 10,602\n",
      "Trainable params: 10,602\n",
      "Non-trainable params: 0\n",
      "_________________________________________________________________\n",
      "Epoch 1/2\n",
      "139/152 [==========================>...] - ETA: 0s - loss: 0.4100 - acc: 0.4451WARNING:tensorflow:`evaluate()` received a value for `sample_weight`, but `weighted_metrics` were not provided.  Did you mean to pass metrics to `weighted_metrics` in `compile()`?  If this is intentional you can pass `weighted_metrics=[]` to `compile()` in order to silence this warning.\n"
     ]
    },
    {
     "name": "stderr",
     "output_type": "stream",
     "text": [
      "WARNING:tensorflow:`evaluate()` received a value for `sample_weight`, but `weighted_metrics` were not provided.  Did you mean to pass metrics to `weighted_metrics` in `compile()`?  If this is intentional you can pass `weighted_metrics=[]` to `compile()` in order to silence this warning.\n"
     ]
    },
    {
     "name": "stdout",
     "output_type": "stream",
     "text": [
      "\n",
      "Epoch 1: val_loss improved from inf to 0.41043, saving model to Step1_1_Epoch-1\n"
     ]
    },
    {
     "name": "stderr",
     "output_type": "stream",
     "text": [
      "WARNING:absl:Found untraced functions such as _update_step_xla while saving (showing 1 of 1). These functions will not be directly callable after loading.\n"
     ]
    },
    {
     "name": "stdout",
     "output_type": "stream",
     "text": [
      "INFO:tensorflow:Assets written to: Step1_1_Epoch-1/assets\n"
     ]
    },
    {
     "name": "stderr",
     "output_type": "stream",
     "text": [
      "INFO:tensorflow:Assets written to: Step1_1_Epoch-1/assets\n"
     ]
    },
    {
     "name": "stdout",
     "output_type": "stream",
     "text": [
      "152/152 [==============================] - 6s 37ms/step - loss: 0.4101 - acc: 0.4471 - val_loss: 0.4104 - val_acc: 0.4026\n",
      "Epoch 2/2\n",
      "132/152 [=========================>....] - ETA: 0s - loss: 0.4100 - acc: 0.4410WARNING:tensorflow:`evaluate()` received a value for `sample_weight`, but `weighted_metrics` were not provided.  Did you mean to pass metrics to `weighted_metrics` in `compile()`?  If this is intentional you can pass `weighted_metrics=[]` to `compile()` in order to silence this warning.\n"
     ]
    },
    {
     "name": "stderr",
     "output_type": "stream",
     "text": [
      "WARNING:tensorflow:`evaluate()` received a value for `sample_weight`, but `weighted_metrics` were not provided.  Did you mean to pass metrics to `weighted_metrics` in `compile()`?  If this is intentional you can pass `weighted_metrics=[]` to `compile()` in order to silence this warning.\n"
     ]
    },
    {
     "name": "stdout",
     "output_type": "stream",
     "text": [
      "\n",
      "Epoch 2: val_loss did not improve from 0.41043\n",
      "152/152 [==============================] - 0s 3ms/step - loss: 0.4102 - acc: 0.4372 - val_loss: 0.4118 - val_acc: 0.4083\n",
      "16/16 [==============================] - 0s 3ms/step\n",
      "4/4 [==============================] - 0s 3ms/step\n",
      "Epoch 1/2\n",
      "201/213 [===========================>..] - ETA: 0s - loss: 0.2988 - acc: 0.4994WARNING:tensorflow:`evaluate()` received a value for `sample_weight`, but `weighted_metrics` were not provided.  Did you mean to pass metrics to `weighted_metrics` in `compile()`?  If this is intentional you can pass `weighted_metrics=[]` to `compile()` in order to silence this warning.\n"
     ]
    },
    {
     "name": "stderr",
     "output_type": "stream",
     "text": [
      "WARNING:tensorflow:`evaluate()` received a value for `sample_weight`, but `weighted_metrics` were not provided.  Did you mean to pass metrics to `weighted_metrics` in `compile()`?  If this is intentional you can pass `weighted_metrics=[]` to `compile()` in order to silence this warning.\n"
     ]
    },
    {
     "name": "stdout",
     "output_type": "stream",
     "text": [
      "\n",
      "Epoch 1: val_loss improved from inf to 0.29742, saving model to Step2_1_Epoch-1\n"
     ]
    },
    {
     "name": "stderr",
     "output_type": "stream",
     "text": [
      "WARNING:absl:Found untraced functions such as _update_step_xla while saving (showing 1 of 1). These functions will not be directly callable after loading.\n"
     ]
    },
    {
     "name": "stdout",
     "output_type": "stream",
     "text": [
      "INFO:tensorflow:Assets written to: Step2_1_Epoch-1/assets\n"
     ]
    },
    {
     "name": "stderr",
     "output_type": "stream",
     "text": [
      "INFO:tensorflow:Assets written to: Step2_1_Epoch-1/assets\n"
     ]
    },
    {
     "name": "stdout",
     "output_type": "stream",
     "text": [
      "213/213 [==============================] - 10s 44ms/step - loss: 0.2987 - acc: 0.4991 - val_loss: 0.2974 - val_acc: 0.5000\n",
      "Epoch 2/2\n",
      "204/213 [===========================>..] - ETA: 0s - loss: 0.2982 - acc: 0.4994WARNING:tensorflow:`evaluate()` received a value for `sample_weight`, but `weighted_metrics` were not provided.  Did you mean to pass metrics to `weighted_metrics` in `compile()`?  If this is intentional you can pass `weighted_metrics=[]` to `compile()` in order to silence this warning.\n"
     ]
    },
    {
     "name": "stderr",
     "output_type": "stream",
     "text": [
      "WARNING:tensorflow:`evaluate()` received a value for `sample_weight`, but `weighted_metrics` were not provided.  Did you mean to pass metrics to `weighted_metrics` in `compile()`?  If this is intentional you can pass `weighted_metrics=[]` to `compile()` in order to silence this warning.\n"
     ]
    },
    {
     "name": "stdout",
     "output_type": "stream",
     "text": [
      "\n",
      "Epoch 2: val_loss improved from 0.29742 to 0.29679, saving model to Step2_1_Epoch-2\n"
     ]
    },
    {
     "name": "stderr",
     "output_type": "stream",
     "text": [
      "WARNING:absl:Found untraced functions such as _update_step_xla while saving (showing 1 of 1). These functions will not be directly callable after loading.\n"
     ]
    },
    {
     "name": "stdout",
     "output_type": "stream",
     "text": [
      "INFO:tensorflow:Assets written to: Step2_1_Epoch-2/assets\n"
     ]
    },
    {
     "name": "stderr",
     "output_type": "stream",
     "text": [
      "INFO:tensorflow:Assets written to: Step2_1_Epoch-2/assets\n"
     ]
    },
    {
     "name": "stdout",
     "output_type": "stream",
     "text": [
      "213/213 [==============================] - 1s 7ms/step - loss: 0.2981 - acc: 0.4993 - val_loss: 0.2968 - val_acc: 0.5000\n",
      "22/22 [==============================] - 0s 3ms/step\n",
      "6/6 [==============================] - 0s 3ms/step\n",
      "Model: \"model_4\"\n",
      "_________________________________________________________________\n",
      " Layer (type)                Output Shape              Param #   \n",
      "=================================================================\n",
      " input (InputLayer)          [(None, 2)]               0         \n",
      "                                                                 \n",
      " dense_0 (Dense)             (None, 100)               300       \n",
      "                                                                 \n",
      " activation_12 (Activation)  (None, 100)               0         \n",
      "                                                                 \n",
      " dense_1 (Dense)             (None, 100)               10100     \n",
      "                                                                 \n",
      " activation_13 (Activation)  (None, 100)               0         \n",
      "                                                                 \n",
      " output (Dense)              (None, 2)                 202       \n",
      "                                                                 \n",
      " activation_14 (Activation)  (None, 2)                 0         \n",
      "                                                                 \n",
      "=================================================================\n",
      "Total params: 10,602\n",
      "Trainable params: 10,602\n",
      "Non-trainable params: 0\n",
      "_________________________________________________________________\n",
      "Model: \"model_5\"\n",
      "_________________________________________________________________\n",
      " Layer (type)                Output Shape              Param #   \n",
      "=================================================================\n",
      " input (InputLayer)          [(None, 2)]               0         \n",
      "                                                                 \n",
      " dense_0 (Dense)             (None, 100)               300       \n",
      "                                                                 \n",
      " activation_15 (Activation)  (None, 100)               0         \n",
      "                                                                 \n",
      " dense_1 (Dense)             (None, 100)               10100     \n",
      "                                                                 \n",
      " activation_16 (Activation)  (None, 100)               0         \n",
      "                                                                 \n",
      " output (Dense)              (None, 2)                 202       \n",
      "                                                                 \n",
      " activation_17 (Activation)  (None, 2)                 0         \n",
      "                                                                 \n",
      "=================================================================\n",
      "Total params: 10,602\n",
      "Trainable params: 10,602\n",
      "Non-trainable params: 0\n",
      "_________________________________________________________________\n",
      "Epoch 1/2\n",
      "137/152 [==========================>...] - ETA: 0s - loss: 0.4180 - acc: 0.4839WARNING:tensorflow:`evaluate()` received a value for `sample_weight`, but `weighted_metrics` were not provided.  Did you mean to pass metrics to `weighted_metrics` in `compile()`?  If this is intentional you can pass `weighted_metrics=[]` to `compile()` in order to silence this warning.\n"
     ]
    },
    {
     "name": "stderr",
     "output_type": "stream",
     "text": [
      "WARNING:tensorflow:`evaluate()` received a value for `sample_weight`, but `weighted_metrics` were not provided.  Did you mean to pass metrics to `weighted_metrics` in `compile()`?  If this is intentional you can pass `weighted_metrics=[]` to `compile()` in order to silence this warning.\n"
     ]
    },
    {
     "name": "stdout",
     "output_type": "stream",
     "text": [
      "\n",
      "Epoch 1: val_loss improved from inf to 0.42053, saving model to Step1_2_Epoch-1\n"
     ]
    },
    {
     "name": "stderr",
     "output_type": "stream",
     "text": [
      "WARNING:absl:Found untraced functions such as _update_step_xla while saving (showing 1 of 1). These functions will not be directly callable after loading.\n"
     ]
    },
    {
     "name": "stdout",
     "output_type": "stream",
     "text": [
      "INFO:tensorflow:Assets written to: Step1_2_Epoch-1/assets\n"
     ]
    },
    {
     "name": "stderr",
     "output_type": "stream",
     "text": [
      "INFO:tensorflow:Assets written to: Step1_2_Epoch-1/assets\n"
     ]
    },
    {
     "name": "stdout",
     "output_type": "stream",
     "text": [
      "152/152 [==============================] - 9s 52ms/step - loss: 0.4181 - acc: 0.4834 - val_loss: 0.4205 - val_acc: 0.4124\n",
      "Epoch 2/2\n",
      "147/152 [============================>.] - ETA: 0s - loss: 0.4182 - acc: 0.4754WARNING:tensorflow:`evaluate()` received a value for `sample_weight`, but `weighted_metrics` were not provided.  Did you mean to pass metrics to `weighted_metrics` in `compile()`?  If this is intentional you can pass `weighted_metrics=[]` to `compile()` in order to silence this warning.\n"
     ]
    },
    {
     "name": "stderr",
     "output_type": "stream",
     "text": [
      "WARNING:tensorflow:`evaluate()` received a value for `sample_weight`, but `weighted_metrics` were not provided.  Did you mean to pass metrics to `weighted_metrics` in `compile()`?  If this is intentional you can pass `weighted_metrics=[]` to `compile()` in order to silence this warning.\n"
     ]
    },
    {
     "name": "stdout",
     "output_type": "stream",
     "text": [
      "\n",
      "Epoch 2: val_loss improved from 0.42053 to 0.41868, saving model to Step1_2_Epoch-2\n"
     ]
    },
    {
     "name": "stderr",
     "output_type": "stream",
     "text": [
      "WARNING:absl:Found untraced functions such as _update_step_xla while saving (showing 1 of 1). These functions will not be directly callable after loading.\n"
     ]
    },
    {
     "name": "stdout",
     "output_type": "stream",
     "text": [
      "INFO:tensorflow:Assets written to: Step1_2_Epoch-2/assets\n"
     ]
    },
    {
     "name": "stderr",
     "output_type": "stream",
     "text": [
      "INFO:tensorflow:Assets written to: Step1_2_Epoch-2/assets\n"
     ]
    },
    {
     "name": "stdout",
     "output_type": "stream",
     "text": [
      "152/152 [==============================] - 2s 10ms/step - loss: 0.4185 - acc: 0.4772 - val_loss: 0.4187 - val_acc: 0.4431\n",
      "16/16 [==============================] - 0s 4ms/step\n",
      "4/4 [==============================] - 0s 4ms/step\n",
      "Epoch 1/2\n",
      "211/213 [============================>.] - ETA: 0s - loss: 0.3034 - acc: 0.4998WARNING:tensorflow:`evaluate()` received a value for `sample_weight`, but `weighted_metrics` were not provided.  Did you mean to pass metrics to `weighted_metrics` in `compile()`?  If this is intentional you can pass `weighted_metrics=[]` to `compile()` in order to silence this warning.\n"
     ]
    },
    {
     "name": "stderr",
     "output_type": "stream",
     "text": [
      "WARNING:tensorflow:`evaluate()` received a value for `sample_weight`, but `weighted_metrics` were not provided.  Did you mean to pass metrics to `weighted_metrics` in `compile()`?  If this is intentional you can pass `weighted_metrics=[]` to `compile()` in order to silence this warning.\n"
     ]
    },
    {
     "name": "stdout",
     "output_type": "stream",
     "text": [
      "\n",
      "Epoch 1: val_loss improved from inf to 0.30207, saving model to Step2_2_Epoch-1\n"
     ]
    },
    {
     "name": "stderr",
     "output_type": "stream",
     "text": [
      "WARNING:absl:Found untraced functions such as _update_step_xla while saving (showing 1 of 1). These functions will not be directly callable after loading.\n"
     ]
    },
    {
     "name": "stdout",
     "output_type": "stream",
     "text": [
      "INFO:tensorflow:Assets written to: Step2_2_Epoch-1/assets\n"
     ]
    },
    {
     "name": "stderr",
     "output_type": "stream",
     "text": [
      "INFO:tensorflow:Assets written to: Step2_2_Epoch-1/assets\n"
     ]
    },
    {
     "name": "stdout",
     "output_type": "stream",
     "text": [
      "213/213 [==============================] - 9s 37ms/step - loss: 0.3034 - acc: 0.4996 - val_loss: 0.3021 - val_acc: 0.5000\n",
      "Epoch 2/2\n",
      "206/213 [============================>.] - ETA: 0s - loss: 0.3030 - acc: 0.5016WARNING:tensorflow:`evaluate()` received a value for `sample_weight`, but `weighted_metrics` were not provided.  Did you mean to pass metrics to `weighted_metrics` in `compile()`?  If this is intentional you can pass `weighted_metrics=[]` to `compile()` in order to silence this warning.\n"
     ]
    },
    {
     "name": "stderr",
     "output_type": "stream",
     "text": [
      "WARNING:tensorflow:`evaluate()` received a value for `sample_weight`, but `weighted_metrics` were not provided.  Did you mean to pass metrics to `weighted_metrics` in `compile()`?  If this is intentional you can pass `weighted_metrics=[]` to `compile()` in order to silence this warning.\n"
     ]
    },
    {
     "name": "stdout",
     "output_type": "stream",
     "text": [
      "\n",
      "Epoch 2: val_loss did not improve from 0.30207\n",
      "213/213 [==============================] - 1s 3ms/step - loss: 0.3030 - acc: 0.5013 - val_loss: 0.3021 - val_acc: 0.5000\n",
      "22/22 [==============================] - 0s 3ms/step\n",
      "6/6 [==============================] - 0s 3ms/step\n"
     ]
    }
   ],
   "source": [
    "# apply the OmniFold procedure to get weights for the generation\n",
    "multifold_ws = omnifold.omnifold(X_gen, Y_gen, X_det, Y_det, wdata, winit,\n",
    "                                (ef.archs.DNN, det_args), (ef.archs.DNN, mc_args),\n",
    "                                fitargs, val=0.2, it=itnum, trw_ind=-2, weights_filename='Test')"
   ]
  },
  {
   "cell_type": "markdown",
   "metadata": {},
   "source": [
    "## Plot Unfolding Results\n",
    "\n",
    "Now it's time to plot the unfolding results for all of the specified observables!"
   ]
  },
  {
   "cell_type": "code",
   "execution_count": 20,
   "metadata": {
    "scrolled": true
   },
   "outputs": [
    {
     "data": {
      "image/png": "[encoded data removed]",
      "text/plain": [
       "<Figure size 480x480 with 2 Axes>"
      ]
     },
     "metadata": {},
     "output_type": "display_data"
    },
    {
     "data": {
      "image/png": "[encoded data removed]",
      "text/plain": [
       "<Figure size 480x480 with 2 Axes>"
      ]
     },
     "metadata": {},
     "output_type": "display_data"
    }
   ],
   "source": [
    "plot_directory  = \"./plots/\"\n",
    "\n",
    "for i,(obkey,ob) in enumerate(obs.items()):\n",
    "\n",
    "\n",
    "    # get the styled axes on which to plot\n",
    "    fig, [ax0, ax1] = modplot.axes(**ob)\n",
    "    if ob.get('yscale') is not None:\n",
    "        ax0.set_yscale(ob['yscale'])\n",
    "\n",
    "        \n",
    "    # Plot the Different Distributions of the Observable\n",
    "    # plot the \"data\" histogram of the observable\n",
    "    \n",
    "    ax0.hist(ob['dataobs'], bins=ob['bins_det'], color='black', label='\\\"Data\\\"', **hist_style)\n",
    "\n",
    "\n",
    "    # plot the \"sim\" histogram of the observable\n",
    "    ax0.hist(ob['simobs'], bins=ob['bins_det'], color='orange', label='Sim.', **hist_style, linestyle = 'dotted')\n",
    "\n",
    "    # plot the \"gen\" histogram of the observable\n",
    "    ax0.plot(ob['midbins_mc'], ob['genobs_hist'], **gen_style)\n",
    "\n",
    "    # plot the \"truth\" histogram of the observable\n",
    "    ax0.fill_between(ob['midbins_mc'], ob['truth_hist'], **truth_style)\n",
    "\n",
    "    \n",
    "    # Plot the Unfolded Distributions of the Observable\n",
    "    # plot the OmniFold distribution\n",
    "    of_histgen, of_histgen_unc = modplot.calc_hist(ob['genobs'], \n",
    "                                                   weights=multifold_ws[2*itnum-1], \n",
    "                                                   bins=ob['bins_mc'], density=True)[:2]\n",
    "    \n",
    "    ax0.plot(ob['midbins_mc'], of_histgen, **omnifold_style, label='MultiFold')\n",
    "\n",
    "    # plot the IBU distribution\n",
    "    #ax0.plot(ob['midbins_mc'], ob['ibu_phis'][itnum], **ibu_style, label='IBU ' + ob['symbol'])\n",
    "\n",
    "    # Plot the Ratios of the OmniFold and IBU distributions to truth (with statistical uncertainties)\n",
    "    # ibu_ratio = ob['ibu_phis'][itnum]/(ob['truth_hist'] + 10**-50)\n",
    "    of_ratio = of_histgen/(ob['truth_hist'] + 10**-50)\n",
    "    ax1.plot([np.min(ob['midbins_mc']), np.max(ob['midbins_mc'])], [1, 1], '-', color='green', lw=0.75)\n",
    "    \n",
    "    # ratio uncertainties\n",
    "    truth_unc_ratio = ob['truth_hist_unc']/(ob['truth_hist'] + 10**-50)\n",
    "    #ibu_unc_ratio = ob['ibu_phi_unc']/(ob['truth_hist'] + 10**-50)\n",
    "    of_unc_ratio = of_histgen_unc/(ob['truth_hist'] + 10**-50)\n",
    "    \n",
    "    ax1.fill_between(ob['midbins_mc'], 1 - truth_unc_ratio, 1 + truth_unc_ratio, \n",
    "                     facecolor=truth_style['facecolor'], zorder=-2)\n",
    "    #ax1.errorbar(ob['midbins_mc'], ibu_ratio, xerr=ob['binwidth_mc']/2, yerr=ibu_unc_ratio, \n",
    "                                              #color=ibu_style['color'], **modplot.style('errorbar'))\n",
    "    ax1.errorbar(ob['midbins_mc'], of_ratio, xerr=ob['binwidth_mc']/2, yerr=of_unc_ratio, \n",
    "                                              color=omnifold_style['color'], **modplot.style('errorbar'))\n",
    "\n",
    "    # legend style and ordering\n",
    "    loc, ncol = ob.get('legend_loc', 'upper right'), ob.get('legend_ncol', 2)\n",
    "    order = [3, 4, 2, 0, 1] if ncol==2 else [3, 4, 0, 2, 1]\n",
    "    modplot.legend(ax=ax0, frameon=False, order=order, loc=loc, ncol=ncol)\n",
    "\n",
    "\n",
    "    # save plot.\n",
    "    fig.savefig(plot_directory + 'MultiFold_{}.pdf'.format(obkey), bbox_inches='tight')  "
   ]
  },
  {
   "cell_type": "code",
   "execution_count": 21,
   "metadata": {},
   "outputs": [
    {
     "name": "stdout",
     "output_type": "stream",
     "text": [
      "16790.6848287154\n"
     ]
    },
    {
     "name": "stderr",
     "output_type": "stream",
     "text": [
      "/Users/wingyanma/miniconda3/envs/analysis/lib/python3.7/site-packages/pandas/core/frame.py:7511: SettingWithCopyWarning: \n",
      "A value is trying to be set on a copy of a slice from a DataFrame.\n",
      "Try using .loc[row_indexer,col_indexer] = value instead\n",
      "\n",
      "See the caveats in the documentation: https://pandas.pydata.org/pandas-docs/stable/user_guide/indexing.html#returning-a-view-versus-a-copy\n",
      "  self[col] = expressions.where(mask, this, that)\n"
     ]
    }
   ],
   "source": [
    "weight_dic = {'weight': multifold_ws[2*itnum]}\n",
    "data.update(weight_dic)\n",
    "# print(data['weight'][data['weight']>1.05])\n",
    "print(data['weight'].sum())\n",
    "# output = pd.DataFrame()\n",
    "# df_dictionary = pd.DataFrame([weight_dic])\n",
    "# output = data.assign(weight=multifold_ws[2*itnum])"
   ]
  },
  {
   "cell_type": "code",
   "execution_count": 22,
   "metadata": {},
   "outputs": [
    {
     "data": {
      "text/html": [
       "<div>\n",
       "<style scoped>\n",
       "    .dataframe tbody tr th:only-of-type {\n",
       "        vertical-align: middle;\n",
       "    }\n",
       "\n",
       "    .dataframe tbody tr th {\n",
       "        vertical-align: top;\n",
       "    }\n",
       "\n",
       "    .dataframe thead th {\n",
       "        text-align: right;\n",
       "    }\n",
       "</style>\n",
       "<table border=\"1\" class=\"dataframe\">\n",
       "  <thead>\n",
       "    <tr style=\"text-align: right;\">\n",
       "      <th></th>\n",
       "      <th>pdg</th>\n",
       "      <th>pid_gen</th>\n",
       "      <th>pid_rec</th>\n",
       "      <th>cz_rec</th>\n",
       "      <th>cz_numu_rec</th>\n",
       "      <th>e_rec</th>\n",
       "      <th>e_numu_rec</th>\n",
       "      <th>cz_gen</th>\n",
       "      <th>e_gen</th>\n",
       "      <th>type</th>\n",
       "      <th>weight</th>\n",
       "      <th>theta_rec</th>\n",
       "      <th>theta_gen</th>\n",
       "    </tr>\n",
       "  </thead>\n",
       "  <tbody>\n",
       "    <tr>\n",
       "      <th>0</th>\n",
       "      <td>14</td>\n",
       "      <td>0</td>\n",
       "      <td>0</td>\n",
       "      <td>0.494961</td>\n",
       "      <td>0.590685</td>\n",
       "      <td>0.853201</td>\n",
       "      <td>1.157009</td>\n",
       "      <td>0.855655</td>\n",
       "      <td>3.841143</td>\n",
       "      <td>1</td>\n",
       "      <td>0.415755</td>\n",
       "      <td>60.332831</td>\n",
       "      <td>31.167860</td>\n",
       "    </tr>\n",
       "    <tr>\n",
       "      <th>5</th>\n",
       "      <td>14</td>\n",
       "      <td>0</td>\n",
       "      <td>0</td>\n",
       "      <td>-0.141743</td>\n",
       "      <td>-0.247919</td>\n",
       "      <td>1.386829</td>\n",
       "      <td>1.466295</td>\n",
       "      <td>-0.289032</td>\n",
       "      <td>1.385311</td>\n",
       "      <td>1</td>\n",
       "      <td>0.414003</td>\n",
       "      <td>98.148747</td>\n",
       "      <td>106.800032</td>\n",
       "    </tr>\n",
       "    <tr>\n",
       "      <th>7</th>\n",
       "      <td>14</td>\n",
       "      <td>0</td>\n",
       "      <td>0</td>\n",
       "      <td>0.563811</td>\n",
       "      <td>0.571079</td>\n",
       "      <td>2.315544</td>\n",
       "      <td>2.056042</td>\n",
       "      <td>0.465275</td>\n",
       "      <td>2.145338</td>\n",
       "      <td>1</td>\n",
       "      <td>0.348918</td>\n",
       "      <td>55.680249</td>\n",
       "      <td>62.271961</td>\n",
       "    </tr>\n",
       "    <tr>\n",
       "      <th>9</th>\n",
       "      <td>14</td>\n",
       "      <td>0</td>\n",
       "      <td>0</td>\n",
       "      <td>0.676379</td>\n",
       "      <td>0.882732</td>\n",
       "      <td>0.716852</td>\n",
       "      <td>0.828296</td>\n",
       "      <td>0.954780</td>\n",
       "      <td>1.034004</td>\n",
       "      <td>1</td>\n",
       "      <td>0.354580</td>\n",
       "      <td>47.438700</td>\n",
       "      <td>17.296348</td>\n",
       "    </tr>\n",
       "    <tr>\n",
       "      <th>15</th>\n",
       "      <td>14</td>\n",
       "      <td>0</td>\n",
       "      <td>0</td>\n",
       "      <td>0.880363</td>\n",
       "      <td>0.888954</td>\n",
       "      <td>0.852772</td>\n",
       "      <td>0.897762</td>\n",
       "      <td>0.684703</td>\n",
       "      <td>0.960108</td>\n",
       "      <td>1</td>\n",
       "      <td>0.406789</td>\n",
       "      <td>28.313868</td>\n",
       "      <td>46.787779</td>\n",
       "    </tr>\n",
       "    <tr>\n",
       "      <th>...</th>\n",
       "      <td>...</td>\n",
       "      <td>...</td>\n",
       "      <td>...</td>\n",
       "      <td>...</td>\n",
       "      <td>...</td>\n",
       "      <td>...</td>\n",
       "      <td>...</td>\n",
       "      <td>...</td>\n",
       "      <td>...</td>\n",
       "      <td>...</td>\n",
       "      <td>...</td>\n",
       "      <td>...</td>\n",
       "      <td>...</td>\n",
       "    </tr>\n",
       "    <tr>\n",
       "      <th>94959</th>\n",
       "      <td>12</td>\n",
       "      <td>4</td>\n",
       "      <td>4</td>\n",
       "      <td>-0.321601</td>\n",
       "      <td>-0.338514</td>\n",
       "      <td>2.788977</td>\n",
       "      <td>3.256436</td>\n",
       "      <td>-0.214398</td>\n",
       "      <td>9.492567</td>\n",
       "      <td>0</td>\n",
       "      <td>1.000000</td>\n",
       "      <td>108.759751</td>\n",
       "      <td>102.380208</td>\n",
       "    </tr>\n",
       "    <tr>\n",
       "      <th>94961</th>\n",
       "      <td>-14</td>\n",
       "      <td>4</td>\n",
       "      <td>4</td>\n",
       "      <td>-0.162246</td>\n",
       "      <td>0.022859</td>\n",
       "      <td>2.258630</td>\n",
       "      <td>2.477290</td>\n",
       "      <td>-0.299260</td>\n",
       "      <td>5.933968</td>\n",
       "      <td>0</td>\n",
       "      <td>1.000000</td>\n",
       "      <td>99.337262</td>\n",
       "      <td>107.413176</td>\n",
       "    </tr>\n",
       "    <tr>\n",
       "      <th>94967</th>\n",
       "      <td>-14</td>\n",
       "      <td>4</td>\n",
       "      <td>4</td>\n",
       "      <td>0.054821</td>\n",
       "      <td>-0.543451</td>\n",
       "      <td>0.636991</td>\n",
       "      <td>0.705622</td>\n",
       "      <td>-0.269792</td>\n",
       "      <td>10.802971</td>\n",
       "      <td>0</td>\n",
       "      <td>1.000000</td>\n",
       "      <td>86.857431</td>\n",
       "      <td>105.651885</td>\n",
       "    </tr>\n",
       "    <tr>\n",
       "      <th>94970</th>\n",
       "      <td>14</td>\n",
       "      <td>4</td>\n",
       "      <td>4</td>\n",
       "      <td>0.357342</td>\n",
       "      <td>0.369064</td>\n",
       "      <td>1.798511</td>\n",
       "      <td>2.144140</td>\n",
       "      <td>0.681854</td>\n",
       "      <td>4.422088</td>\n",
       "      <td>0</td>\n",
       "      <td>1.000000</td>\n",
       "      <td>69.062954</td>\n",
       "      <td>47.011304</td>\n",
       "    </tr>\n",
       "    <tr>\n",
       "      <th>94974</th>\n",
       "      <td>14</td>\n",
       "      <td>4</td>\n",
       "      <td>1</td>\n",
       "      <td>0.540447</td>\n",
       "      <td>0.344140</td>\n",
       "      <td>2.538012</td>\n",
       "      <td>2.149151</td>\n",
       "      <td>0.118027</td>\n",
       "      <td>2.327914</td>\n",
       "      <td>0</td>\n",
       "      <td>1.000000</td>\n",
       "      <td>57.285933</td>\n",
       "      <td>83.221733</td>\n",
       "    </tr>\n",
       "  </tbody>\n",
       "</table>\n",
       "<p>28493 rows × 13 columns</p>\n",
       "</div>"
      ],
      "text/plain": [
       "       pdg  pid_gen  pid_rec    cz_rec  cz_numu_rec     e_rec  e_numu_rec  \\\n",
       "0       14        0        0  0.494961     0.590685  0.853201    1.157009   \n",
       "5       14        0        0 -0.141743    -0.247919  1.386829    1.466295   \n",
       "7       14        0        0  0.563811     0.571079  2.315544    2.056042   \n",
       "9       14        0        0  0.676379     0.882732  0.716852    0.828296   \n",
       "15      14        0        0  0.880363     0.888954  0.852772    0.897762   \n",
       "...    ...      ...      ...       ...          ...       ...         ...   \n",
       "94959   12        4        4 -0.321601    -0.338514  2.788977    3.256436   \n",
       "94961  -14        4        4 -0.162246     0.022859  2.258630    2.477290   \n",
       "94967  -14        4        4  0.054821    -0.543451  0.636991    0.705622   \n",
       "94970   14        4        4  0.357342     0.369064  1.798511    2.144140   \n",
       "94974   14        4        1  0.540447     0.344140  2.538012    2.149151   \n",
       "\n",
       "         cz_gen      e_gen  type    weight   theta_rec   theta_gen  \n",
       "0      0.855655   3.841143     1  0.415755   60.332831   31.167860  \n",
       "5     -0.289032   1.385311     1  0.414003   98.148747  106.800032  \n",
       "7      0.465275   2.145338     1  0.348918   55.680249   62.271961  \n",
       "9      0.954780   1.034004     1  0.354580   47.438700   17.296348  \n",
       "15     0.684703   0.960108     1  0.406789   28.313868   46.787779  \n",
       "...         ...        ...   ...       ...         ...         ...  \n",
       "94959 -0.214398   9.492567     0  1.000000  108.759751  102.380208  \n",
       "94961 -0.299260   5.933968     0  1.000000   99.337262  107.413176  \n",
       "94967 -0.269792  10.802971     0  1.000000   86.857431  105.651885  \n",
       "94970  0.681854   4.422088     0  1.000000   69.062954   47.011304  \n",
       "94974  0.118027   2.327914     0  1.000000   57.285933   83.221733  \n",
       "\n",
       "[28493 rows x 13 columns]"
      ]
     },
     "execution_count": 22,
     "metadata": {},
     "output_type": "execute_result"
    }
   ],
   "source": [
    "data"
   ]
  },
  {
   "cell_type": "code",
   "execution_count": 23,
   "metadata": {},
   "outputs": [
    {
     "name": "stdout",
     "output_type": "stream",
     "text": [
      "0        0.415755\n",
      "5        0.414003\n",
      "7        0.348918\n",
      "9        0.354580\n",
      "15       0.406789\n",
      "           ...   \n",
      "66455    0.381047\n",
      "66456    0.410269\n",
      "66464    0.403736\n",
      "66471    0.530140\n",
      "66476    0.337759\n",
      "Name: weight, Length: 20011, dtype: float64\n"
     ]
    }
   ],
   "source": [
    "print(data['weight'][data['weight']<1])\n"
   ]
  },
  {
   "cell_type": "code",
   "execution_count": null,
   "metadata": {},
   "outputs": [],
   "source": [
    "# with uproot.recreate(\"/home/matias/proyecto/Omnifold/Data/data_weights_\" + target + \".root\") as output_file:\n",
    "#     output_file['ntuple_pion'] = data\n",
    "#     output_file['ntuple_pion'].show()\n",
    "#     output_file"
   ]
  },
  {
   "cell_type": "code",
   "execution_count": null,
   "metadata": {},
   "outputs": [],
   "source": []
  },
  {
   "cell_type": "code",
   "execution_count": null,
   "metadata": {},
   "outputs": [],
   "source": []
  }
 ],
 "metadata": {
  "kernelspec": {
   "display_name": "Python 3 (ipykernel)",
   "language": "python",
   "name": "python3"
  },
  "language_info": {
   "codemirror_mode": {
    "name": "ipython",
    "version": 3
   },
   "file_extension": ".py",
   "mimetype": "text/x-python",
   "name": "python",
   "nbconvert_exporter": "python",
   "pygments_lexer": "ipython3",
   "version": "3.7.5"
  }
 },
 "nbformat": 4,
 "nbformat_minor": 2
}
