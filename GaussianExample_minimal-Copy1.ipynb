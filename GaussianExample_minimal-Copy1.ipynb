{
 "cells": [
  {
   "cell_type": "code",
   "execution_count": 1,
   "metadata": {
    "ExecuteTime": {
     "end_time": "2020-11-17T03:48:59.924067Z",
     "start_time": "2020-11-17T03:48:57.190005Z"
    }
   },
   "outputs": [
    {
     "name": "stderr",
     "output_type": "stream",
     "text": [
      "2024-07-11 18:06:40.362887: I tensorflow/core/platform/cpu_feature_guard.cc:193] This TensorFlow binary is optimized with oneAPI Deep Neural Network Library (oneDNN) to use the following CPU instructions in performance-critical operations:  AVX2 FMA\n",
      "To enable them in other operations, rebuild TensorFlow with the appropriate compiler flags.\n"
     ]
    }
   ],
   "source": [
    "import numpy as np\n",
    "from matplotlib import pyplot as plt\n",
    "\n",
    "from keras.layers import Dense, Input\n",
    "from keras.models import Model\n",
    "\n",
    "from omnifold_ori import omnifold as of\n",
    "import os\n",
    "import tensorflow as tf\n",
    "import pandas as pd"
   ]
  },
  {
   "cell_type": "code",
   "execution_count": 2,
   "metadata": {},
   "outputs": [
    {
     "name": "stdout",
     "output_type": "stream",
     "text": [
      "[]\n"
     ]
    }
   ],
   "source": [
    "gpus = tf.config.experimental.list_physical_devices('GPU')\n",
    "print(gpus)\n",
    "#tf.config.experimental.set_virtual_device_configuration(\n",
    "#    gpus[1],[tf.config.experimental.VirtualDeviceConfiguration(memory_limit=1024)]) #in MB"
   ]
  },
  {
   "cell_type": "code",
   "execution_count": 3,
   "metadata": {},
   "outputs": [],
   "source": [
    "input_data = pd.read_csv(\"/Users/wingyanma/Documents/GitHub/pisa/pisa_examples/resources/events/J23_all_events.csv\")\n"
   ]
  },
  {
   "cell_type": "code",
   "execution_count": 4,
   "metadata": {},
   "outputs": [
    {
     "data": {
      "text/html": [
       "<div>\n",
       "<style scoped>\n",
       "    .dataframe tbody tr th:only-of-type {\n",
       "        vertical-align: middle;\n",
       "    }\n",
       "\n",
       "    .dataframe tbody tr th {\n",
       "        vertical-align: top;\n",
       "    }\n",
       "\n",
       "    .dataframe thead th {\n",
       "        text-align: right;\n",
       "    }\n",
       "</style>\n",
       "<table border=\"1\" class=\"dataframe\">\n",
       "  <thead>\n",
       "    <tr style=\"text-align: right;\">\n",
       "      <th></th>\n",
       "      <th>Unnamed: 0</th>\n",
       "      <th>pdg</th>\n",
       "      <th>true_pid</th>\n",
       "      <th>reco_pid</th>\n",
       "      <th>reco_coszen_nue</th>\n",
       "      <th>reco_coszen_numu</th>\n",
       "      <th>reco_energy_nue</th>\n",
       "      <th>reco_energy_numu</th>\n",
       "      <th>true_coszen</th>\n",
       "      <th>true_energy</th>\n",
       "      <th>type</th>\n",
       "      <th>weight</th>\n",
       "    </tr>\n",
       "  </thead>\n",
       "  <tbody>\n",
       "    <tr>\n",
       "      <th>0</th>\n",
       "      <td>0</td>\n",
       "      <td>14</td>\n",
       "      <td>numu</td>\n",
       "      <td>numu</td>\n",
       "      <td>0.494961</td>\n",
       "      <td>0.590685</td>\n",
       "      <td>0.853201</td>\n",
       "      <td>1.157009</td>\n",
       "      <td>0.855655</td>\n",
       "      <td>3.841143</td>\n",
       "      <td>1</td>\n",
       "      <td>1</td>\n",
       "    </tr>\n",
       "    <tr>\n",
       "      <th>1</th>\n",
       "      <td>1</td>\n",
       "      <td>14</td>\n",
       "      <td>numu</td>\n",
       "      <td>numu</td>\n",
       "      <td>0.274824</td>\n",
       "      <td>0.141403</td>\n",
       "      <td>4.300221</td>\n",
       "      <td>4.784906</td>\n",
       "      <td>0.113431</td>\n",
       "      <td>4.579452</td>\n",
       "      <td>1</td>\n",
       "      <td>1</td>\n",
       "    </tr>\n",
       "    <tr>\n",
       "      <th>2</th>\n",
       "      <td>2</td>\n",
       "      <td>14</td>\n",
       "      <td>numu</td>\n",
       "      <td>numu</td>\n",
       "      <td>0.242091</td>\n",
       "      <td>0.154218</td>\n",
       "      <td>2.578972</td>\n",
       "      <td>2.529813</td>\n",
       "      <td>0.404237</td>\n",
       "      <td>2.226287</td>\n",
       "      <td>1</td>\n",
       "      <td>1</td>\n",
       "    </tr>\n",
       "    <tr>\n",
       "      <th>3</th>\n",
       "      <td>3</td>\n",
       "      <td>14</td>\n",
       "      <td>numu</td>\n",
       "      <td>numu</td>\n",
       "      <td>-0.406088</td>\n",
       "      <td>-0.440340</td>\n",
       "      <td>2.419158</td>\n",
       "      <td>2.477218</td>\n",
       "      <td>-0.807746</td>\n",
       "      <td>2.606570</td>\n",
       "      <td>1</td>\n",
       "      <td>1</td>\n",
       "    </tr>\n",
       "    <tr>\n",
       "      <th>4</th>\n",
       "      <td>4</td>\n",
       "      <td>14</td>\n",
       "      <td>numu</td>\n",
       "      <td>numubar</td>\n",
       "      <td>0.597770</td>\n",
       "      <td>0.653224</td>\n",
       "      <td>3.485928</td>\n",
       "      <td>3.430741</td>\n",
       "      <td>0.187372</td>\n",
       "      <td>3.119193</td>\n",
       "      <td>1</td>\n",
       "      <td>1</td>\n",
       "    </tr>\n",
       "    <tr>\n",
       "      <th>...</th>\n",
       "      <td>...</td>\n",
       "      <td>...</td>\n",
       "      <td>...</td>\n",
       "      <td>...</td>\n",
       "      <td>...</td>\n",
       "      <td>...</td>\n",
       "      <td>...</td>\n",
       "      <td>...</td>\n",
       "      <td>...</td>\n",
       "      <td>...</td>\n",
       "      <td>...</td>\n",
       "      <td>...</td>\n",
       "    </tr>\n",
       "    <tr>\n",
       "      <th>94970</th>\n",
       "      <td>94970</td>\n",
       "      <td>14</td>\n",
       "      <td>nc</td>\n",
       "      <td>nc</td>\n",
       "      <td>0.357342</td>\n",
       "      <td>0.369064</td>\n",
       "      <td>1.798511</td>\n",
       "      <td>2.144140</td>\n",
       "      <td>0.681854</td>\n",
       "      <td>4.422088</td>\n",
       "      <td>0</td>\n",
       "      <td>1</td>\n",
       "    </tr>\n",
       "    <tr>\n",
       "      <th>94971</th>\n",
       "      <td>94971</td>\n",
       "      <td>-12</td>\n",
       "      <td>nc</td>\n",
       "      <td>nc</td>\n",
       "      <td>-0.290957</td>\n",
       "      <td>-0.492486</td>\n",
       "      <td>2.885988</td>\n",
       "      <td>3.517319</td>\n",
       "      <td>0.044246</td>\n",
       "      <td>5.999827</td>\n",
       "      <td>0</td>\n",
       "      <td>1</td>\n",
       "    </tr>\n",
       "    <tr>\n",
       "      <th>94972</th>\n",
       "      <td>94972</td>\n",
       "      <td>12</td>\n",
       "      <td>nc</td>\n",
       "      <td>nc</td>\n",
       "      <td>-0.570296</td>\n",
       "      <td>-0.735233</td>\n",
       "      <td>1.708040</td>\n",
       "      <td>1.500363</td>\n",
       "      <td>-0.395516</td>\n",
       "      <td>2.657809</td>\n",
       "      <td>0</td>\n",
       "      <td>1</td>\n",
       "    </tr>\n",
       "    <tr>\n",
       "      <th>94973</th>\n",
       "      <td>94973</td>\n",
       "      <td>14</td>\n",
       "      <td>nc</td>\n",
       "      <td>nc</td>\n",
       "      <td>-0.072436</td>\n",
       "      <td>-0.063474</td>\n",
       "      <td>4.060598</td>\n",
       "      <td>4.322109</td>\n",
       "      <td>-0.026144</td>\n",
       "      <td>7.631851</td>\n",
       "      <td>0</td>\n",
       "      <td>1</td>\n",
       "    </tr>\n",
       "    <tr>\n",
       "      <th>94974</th>\n",
       "      <td>94974</td>\n",
       "      <td>14</td>\n",
       "      <td>nc</td>\n",
       "      <td>numubar</td>\n",
       "      <td>0.540447</td>\n",
       "      <td>0.344140</td>\n",
       "      <td>2.538012</td>\n",
       "      <td>2.149151</td>\n",
       "      <td>0.118027</td>\n",
       "      <td>2.327914</td>\n",
       "      <td>0</td>\n",
       "      <td>1</td>\n",
       "    </tr>\n",
       "  </tbody>\n",
       "</table>\n",
       "<p>94975 rows × 12 columns</p>\n",
       "</div>"
      ],
      "text/plain": [
       "       Unnamed: 0  pdg true_pid reco_pid  reco_coszen_nue  reco_coszen_numu  \\\n",
       "0               0   14     numu     numu         0.494961          0.590685   \n",
       "1               1   14     numu     numu         0.274824          0.141403   \n",
       "2               2   14     numu     numu         0.242091          0.154218   \n",
       "3               3   14     numu     numu        -0.406088         -0.440340   \n",
       "4               4   14     numu  numubar         0.597770          0.653224   \n",
       "...           ...  ...      ...      ...              ...               ...   \n",
       "94970       94970   14       nc       nc         0.357342          0.369064   \n",
       "94971       94971  -12       nc       nc        -0.290957         -0.492486   \n",
       "94972       94972   12       nc       nc        -0.570296         -0.735233   \n",
       "94973       94973   14       nc       nc        -0.072436         -0.063474   \n",
       "94974       94974   14       nc  numubar         0.540447          0.344140   \n",
       "\n",
       "       reco_energy_nue  reco_energy_numu  true_coszen  true_energy  type  \\\n",
       "0             0.853201          1.157009     0.855655     3.841143     1   \n",
       "1             4.300221          4.784906     0.113431     4.579452     1   \n",
       "2             2.578972          2.529813     0.404237     2.226287     1   \n",
       "3             2.419158          2.477218    -0.807746     2.606570     1   \n",
       "4             3.485928          3.430741     0.187372     3.119193     1   \n",
       "...                ...               ...          ...          ...   ...   \n",
       "94970         1.798511          2.144140     0.681854     4.422088     0   \n",
       "94971         2.885988          3.517319     0.044246     5.999827     0   \n",
       "94972         1.708040          1.500363    -0.395516     2.657809     0   \n",
       "94973         4.060598          4.322109    -0.026144     7.631851     0   \n",
       "94974         2.538012          2.149151     0.118027     2.327914     0   \n",
       "\n",
       "       weight  \n",
       "0           1  \n",
       "1           1  \n",
       "2           1  \n",
       "3           1  \n",
       "4           1  \n",
       "...       ...  \n",
       "94970       1  \n",
       "94971       1  \n",
       "94972       1  \n",
       "94973       1  \n",
       "94974       1  \n",
       "\n",
       "[94975 rows x 12 columns]"
      ]
     },
     "execution_count": 4,
     "metadata": {},
     "output_type": "execute_result"
    }
   ],
   "source": [
    "input_data"
   ]
  },
  {
   "cell_type": "code",
   "execution_count": 5,
   "metadata": {},
   "outputs": [],
   "source": [
    "theta0m = input_data.sample(frac=0.7, random_state=1)\n",
    "idx = theta0m.index\n",
    "theta0u = input_data[~input_data.index.isin(idx)]\n",
    "# theta0u = input_data[~input_data.isin(theta0m)]"
   ]
  },
  {
   "cell_type": "code",
   "execution_count": 6,
   "metadata": {},
   "outputs": [
    {
     "data": {
      "text/plain": [
       "(66482, 28493)"
      ]
     },
     "execution_count": 6,
     "metadata": {},
     "output_type": "execute_result"
    }
   ],
   "source": [
    "len(theta0m), len(theta0u)"
   ]
  },
  {
   "cell_type": "code",
   "execution_count": 7,
   "metadata": {},
   "outputs": [],
   "source": [
    "theta0_G = theta0m['true_energy']\n",
    "theta0_S = theta0m['reco_energy_nue']\n",
    "theta0 = np.stack([theta0_S, theta0_G], axis=1)\n",
    "theta_unknown_G = theta0u['true_energy']\n",
    "theta_unknown_S = theta0u['reco_energy_nue']\n"
   ]
  },
  {
   "cell_type": "code",
   "execution_count": 8,
   "metadata": {
    "ExecuteTime": {
     "end_time": "2020-11-17T03:49:24.308730Z",
     "start_time": "2020-11-17T03:48:59.981078Z"
    }
   },
   "outputs": [],
   "source": [
    "N = 10**5\n",
    "\n",
    "#Synthetic\n",
    "theta0_G = np.random.normal(0.2,0.8,N)  # Generator-level synthetic sample\n",
    "theta0_S = np.array([(x + np.random.normal(0, 0.5)) for x in theta0_G])  # Detector smearing for synthetic sample\n",
    "\n",
    "# theta0 = np.stack([theta0_G, theta0_S], axis=1)\n",
    "theta0 = np.stack([theta0_S, theta0_G], axis=1)\n",
    "\n",
    "#Natural\n",
    "theta_unknown_G = np.random.normal(0,1, N)\n",
    "theta_unknown_S = np.array([(x + np.random.normal(0, 0.5)) for x in theta_unknown_G]) "
   ]
  },
  {
   "cell_type": "code",
   "execution_count": 8,
   "metadata": {},
   "outputs": [
    {
     "data": {
      "text/plain": [
       "94975"
      ]
     },
     "execution_count": 8,
     "metadata": {},
     "output_type": "execute_result"
    }
   ],
   "source": [
    "len(np.concatenate((theta0_S, theta_unknown_S)))"
   ]
  },
  {
   "cell_type": "code",
   "execution_count": 9,
   "metadata": {},
   "outputs": [
    {
     "data": {
      "text/plain": [
       "array([[4.2169166, 4.2169166],\n",
       "       [0.7051771, 0.7051771],\n",
       "       [0.8544829, 0.8544829],\n",
       "       ...,\n",
       "       [4.3290143, 4.3290143],\n",
       "       [2.9140475, 2.9140475],\n",
       "       [1.4386004, 1.4386004]])"
      ]
     },
     "execution_count": 9,
     "metadata": {},
     "output_type": "execute_result"
    }
   ],
   "source": [
    "np.stack([theta0_S, theta0_S], axis=-1)"
   ]
  },
  {
   "cell_type": "code",
   "execution_count": 10,
   "metadata": {},
   "outputs": [],
   "source": [
    "# bins = np.linspace(-3,3,20)\n",
    "bins = np.linspace(0,20,21)"
   ]
  },
  {
   "cell_type": "code",
   "execution_count": 11,
   "metadata": {},
   "outputs": [
    {
     "data": {
      "text/plain": [
       "<matplotlib.legend.Legend at 0x7fbc269ccd90>"
      ]
     },
     "execution_count": 11,
     "metadata": {},
     "output_type": "execute_result"
    },
    {
     "data": {
      "image/png": "[encoded data removed]",
      "text/plain": [
       "<Figure size 640x480 with 1 Axes>"
      ]
     },
     "metadata": {},
     "output_type": "display_data"
    }
   ],
   "source": [
    "_,_,_=plt.hist(theta0_G,bins=bins,color='blue',alpha=0.5,label=\"MC, gen\")\n",
    "_,_,_=plt.hist(theta0_S,bins=bins,histtype=\"step\",color='black',ls=':',label=\"MC, sim\")\n",
    "_,_,_=plt.hist(theta_unknown_G,bins=bins,color='orange',alpha=0.5,label=\"Data, true\")\n",
    "_,_,_=plt.hist(theta_unknown_S,bins=bins,histtype=\"step\",color='black',label=\"Data, reco\")\n",
    "plt.xlabel(\"x\")\n",
    "plt.ylabel(\"events\")\n",
    "plt.legend(frameon=False)"
   ]
  },
  {
   "cell_type": "code",
   "execution_count": 12,
   "metadata": {},
   "outputs": [
    {
     "name": "stderr",
     "output_type": "stream",
     "text": [
      "2024-07-11 18:06:53.381805: I tensorflow/core/platform/cpu_feature_guard.cc:193] This TensorFlow binary is optimized with oneAPI Deep Neural Network Library (oneDNN) to use the following CPU instructions in performance-critical operations:  AVX2 FMA\n",
      "To enable them in other operations, rebuild TensorFlow with the appropriate compiler flags.\n"
     ]
    }
   ],
   "source": [
    "inputs = Input((1, ))\n",
    "hidden_layer_1 = Dense(50, activation='relu')(inputs)\n",
    "hidden_layer_2 = Dense(50, activation='relu')(hidden_layer_1)\n",
    "hidden_layer_3 = Dense(50, activation='relu')(hidden_layer_2)\n",
    "outputs = Dense(1, activation='sigmoid')(hidden_layer_3)\n",
    "model = Model(inputs=inputs, outputs=outputs)"
   ]
  },
  {
   "cell_type": "code",
   "execution_count": 13,
   "metadata": {},
   "outputs": [
    {
     "name": "stdout",
     "output_type": "stream",
     "text": [
      "7/7 [==============================] - 0s 2ms/step\n",
      "7/7 [==============================] - 0s 3ms/step\n",
      "7/7 [==============================] - 0s 2ms/step\n",
      "7/7 [==============================] - 0s 3ms/step\n"
     ]
    }
   ],
   "source": [
    "myweights = of(theta0,theta_unknown_G,2,model)"
   ]
  },
  {
   "cell_type": "code",
   "execution_count": 14,
   "metadata": {},
   "outputs": [
    {
     "data": {
      "text/plain": [
       "(2, 2, 66482)"
      ]
     },
     "execution_count": 14,
     "metadata": {},
     "output_type": "execute_result"
    }
   ],
   "source": [
    "myweights.shape"
   ]
  },
  {
   "cell_type": "code",
   "execution_count": 15,
   "metadata": {},
   "outputs": [
    {
     "data": {
      "text/plain": [
       "array([[[0.36686745, 0.43539524, 0.40655831, ..., 0.40196937,\n",
       "         0.40322158, 0.40474018],\n",
       "        [0.39627451, 0.42570469, 0.41875291, ..., 0.39579791,\n",
       "         0.40185538, 0.40823629]],\n",
       "\n",
       "       [[0.48882127, 0.43699145, 0.43858272, ..., 0.42321256,\n",
       "         0.42470035, 0.42814353],\n",
       "        [0.41285503, 0.44295052, 0.43881711, ..., 0.41270062,\n",
       "         0.41465288, 0.42697766]]])"
      ]
     },
     "execution_count": 15,
     "metadata": {},
     "output_type": "execute_result"
    }
   ],
   "source": [
    "myweights"
   ]
  },
  {
   "cell_type": "code",
   "execution_count": 17,
   "metadata": {},
   "outputs": [
    {
     "data": {
      "text/plain": [
       "<matplotlib.legend.Legend at 0x7fbc26be6790>"
      ]
     },
     "execution_count": 17,
     "metadata": {},
     "output_type": "execute_result"
    },
    {
     "data": {
      "image/png": "[encoded data removed]",
      "text/plain": [
       "<Figure size 640x480 with 1 Axes>"
      ]
     },
     "metadata": {},
     "output_type": "display_data"
    }
   ],
   "source": [
    "_,_,_=plt.hist(theta0_G,bins=bins,color='blue',alpha=0.5,label=\"MC, gen\")\n",
    "_,_,_=plt.hist(theta0_S,bins=bins,histtype=\"step\",color='black',ls=':',label=\"MC, sim\")\n",
    "_,_,_=plt.hist(theta_unknown_G,bins=bins,color='orange',alpha=0.5,label=\"Data, truth\")\n",
    "_,_,_=plt.hist(theta_unknown_S,bins=bins,histtype=\"step\",color='black',label=\"Data, data\")\n",
    "_,_,_=plt.hist(theta0_S,weights=myweights[-1, 0, :], bins=bins,color='red',histtype=\"step\",label=\"OmniFolded\",lw=\"2\")\n",
    "plt.xlabel(\"x\")\n",
    "plt.ylabel(\"events\")\n",
    "plt.legend(frameon=False)"
   ]
  },
  {
   "cell_type": "code",
   "execution_count": null,
   "metadata": {},
   "outputs": [],
   "source": []
  },
  {
   "cell_type": "code",
   "execution_count": null,
   "metadata": {},
   "outputs": [],
   "source": []
  }
 ],
 "metadata": {
  "kernelspec": {
   "display_name": "Python 3 (ipykernel)",
   "language": "python",
   "name": "python3"
  },
  "language_info": {
   "codemirror_mode": {
    "name": "ipython",
    "version": 3
   },
   "file_extension": ".py",
   "mimetype": "text/x-python",
   "name": "python",
   "nbconvert_exporter": "python",
   "pygments_lexer": "ipython3",
   "version": "3.7.5"
  },
  "notify_time": "0",
  "toc": {
   "base_numbering": 1,
   "nav_menu": {},
   "number_sections": false,
   "sideBar": true,
   "skip_h1_title": false,
   "title_cell": "Table of Contents",
   "title_sidebar": "Contents",
   "toc_cell": false,
   "toc_position": {},
   "toc_section_display": true,
   "toc_window_display": false
  }
 },
 "nbformat": 4,
 "nbformat_minor": 4
}
